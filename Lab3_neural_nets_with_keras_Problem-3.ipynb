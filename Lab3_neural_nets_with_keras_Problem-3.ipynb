{
 "cells": [
  {
   "cell_type": "markdown",
   "metadata": {},
   "source": [
    "#### Hand in: all details of your computations (the design of your neural network, the information table of the neural network. Find the best learning rate by the . )\n",
    "\n",
    "\n",
    "# Problem   Train a deep neural network on the MRI slices dataset. "
   ]
  },
  {
   "cell_type": "markdown",
   "metadata": {},
   "source": [
    " \n",
    "The dementia level for the Oasis 1 MRI dataset is based on a patient assessment. As a result, it is not clear whether the levels of 0, .5, 1 and 2 should actually be understood as meaningfully numeric, or if they in fact are categorical labels. \n",
    "\n",
    "To load all of the files into an array we need to be able to search through the directory. Luckily, this is easy to do using the labels file, since each file name is stored there. We just need to loop through the __Filename__ column in the `labels` dataset and load them into an array one by one. There are 702 files in total. \n",
    "\n",
    "With the array there are two ways we can load them in: First, we can load them into a $609\\times 176 \\times 176$ array, which is the best option if we care about the 2D structure. However for algorithms like linear regression that can not see the 2D structure, we may want to flatten the images to a $609\\times 30976$ array (note that $30976 = 176 \\times 176$). Its easy enough two switch back and forth between the two array structures later. We will start with the flattened array. \n",
    "\n",
    "__Note:__ It is very import that we perform the train test split _before_ we expand the dataset through down sampling. If not, we are effectively training on the test data. \n",
    " \n",
    "Try searching for the optimal learning rate by using the approach presented in this chapter (i.e., by growing the learning rate exponentially, plotting the loss, and finding the point where the loss shoots up). "
   ]
  },
  {
   "cell_type": "code",
   "execution_count": 1,
   "metadata": {},
   "outputs": [],
   "source": [
    "import pandas as pd\n",
    "import numpy as np\n",
    "from matplotlib import pyplot as plt\n",
    "import matplotlib"
   ]
  },
  {
   "cell_type": "code",
   "execution_count": 2,
   "metadata": {},
   "outputs": [
    {
     "data": {
      "text/html": [
       "<div>\n",
       "<style scoped>\n",
       "    .dataframe tbody tr th:only-of-type {\n",
       "        vertical-align: middle;\n",
       "    }\n",
       "\n",
       "    .dataframe tbody tr th {\n",
       "        vertical-align: top;\n",
       "    }\n",
       "\n",
       "    .dataframe thead th {\n",
       "        text-align: right;\n",
       "    }\n",
       "</style>\n",
       "<table border=\"1\" class=\"dataframe\">\n",
       "  <thead>\n",
       "    <tr style=\"text-align: right;\">\n",
       "      <th></th>\n",
       "      <th>Unnamed: 0</th>\n",
       "      <th>Filename</th>\n",
       "      <th>ID</th>\n",
       "      <th>M/F</th>\n",
       "      <th>Hand</th>\n",
       "      <th>Age</th>\n",
       "      <th>Educ</th>\n",
       "      <th>SES</th>\n",
       "      <th>MMSE</th>\n",
       "      <th>CDR</th>\n",
       "      <th>eTIV</th>\n",
       "      <th>nWBV</th>\n",
       "      <th>ASF</th>\n",
       "      <th>Delay</th>\n",
       "      <th>Slice</th>\n",
       "    </tr>\n",
       "  </thead>\n",
       "  <tbody>\n",
       "    <tr>\n",
       "      <th>0</th>\n",
       "      <td>0</td>\n",
       "      <td>OAS1_0001_MR1_55.png</td>\n",
       "      <td>OAS1_0001_MR1</td>\n",
       "      <td>F</td>\n",
       "      <td>R</td>\n",
       "      <td>74</td>\n",
       "      <td>2</td>\n",
       "      <td>3.0</td>\n",
       "      <td>29</td>\n",
       "      <td>0.0</td>\n",
       "      <td>1344</td>\n",
       "      <td>0.743</td>\n",
       "      <td>1.306</td>\n",
       "      <td>NaN</td>\n",
       "      <td>55</td>\n",
       "    </tr>\n",
       "    <tr>\n",
       "      <th>1</th>\n",
       "      <td>1</td>\n",
       "      <td>OAS1_0001_MR1_120.png</td>\n",
       "      <td>OAS1_0001_MR1</td>\n",
       "      <td>F</td>\n",
       "      <td>R</td>\n",
       "      <td>74</td>\n",
       "      <td>2</td>\n",
       "      <td>3.0</td>\n",
       "      <td>29</td>\n",
       "      <td>0.0</td>\n",
       "      <td>1344</td>\n",
       "      <td>0.743</td>\n",
       "      <td>1.306</td>\n",
       "      <td>NaN</td>\n",
       "      <td>120</td>\n",
       "    </tr>\n",
       "    <tr>\n",
       "      <th>2</th>\n",
       "      <td>2</td>\n",
       "      <td>OAS1_0001_MR1_180.png</td>\n",
       "      <td>OAS1_0001_MR1</td>\n",
       "      <td>F</td>\n",
       "      <td>R</td>\n",
       "      <td>74</td>\n",
       "      <td>2</td>\n",
       "      <td>3.0</td>\n",
       "      <td>29</td>\n",
       "      <td>0.0</td>\n",
       "      <td>1344</td>\n",
       "      <td>0.743</td>\n",
       "      <td>1.306</td>\n",
       "      <td>NaN</td>\n",
       "      <td>180</td>\n",
       "    </tr>\n",
       "    <tr>\n",
       "      <th>3</th>\n",
       "      <td>3</td>\n",
       "      <td>OAS1_0002_MR1_55.png</td>\n",
       "      <td>OAS1_0002_MR1</td>\n",
       "      <td>F</td>\n",
       "      <td>R</td>\n",
       "      <td>55</td>\n",
       "      <td>4</td>\n",
       "      <td>1.0</td>\n",
       "      <td>29</td>\n",
       "      <td>0.0</td>\n",
       "      <td>1147</td>\n",
       "      <td>0.810</td>\n",
       "      <td>1.531</td>\n",
       "      <td>NaN</td>\n",
       "      <td>55</td>\n",
       "    </tr>\n",
       "    <tr>\n",
       "      <th>4</th>\n",
       "      <td>4</td>\n",
       "      <td>OAS1_0002_MR1_120.png</td>\n",
       "      <td>OAS1_0002_MR1</td>\n",
       "      <td>F</td>\n",
       "      <td>R</td>\n",
       "      <td>55</td>\n",
       "      <td>4</td>\n",
       "      <td>1.0</td>\n",
       "      <td>29</td>\n",
       "      <td>0.0</td>\n",
       "      <td>1147</td>\n",
       "      <td>0.810</td>\n",
       "      <td>1.531</td>\n",
       "      <td>NaN</td>\n",
       "      <td>120</td>\n",
       "    </tr>\n",
       "    <tr>\n",
       "      <th>...</th>\n",
       "      <td>...</td>\n",
       "      <td>...</td>\n",
       "      <td>...</td>\n",
       "      <td>...</td>\n",
       "      <td>...</td>\n",
       "      <td>...</td>\n",
       "      <td>...</td>\n",
       "      <td>...</td>\n",
       "      <td>...</td>\n",
       "      <td>...</td>\n",
       "      <td>...</td>\n",
       "      <td>...</td>\n",
       "      <td>...</td>\n",
       "      <td>...</td>\n",
       "      <td>...</td>\n",
       "    </tr>\n",
       "    <tr>\n",
       "      <th>604</th>\n",
       "      <td>604</td>\n",
       "      <td>OAS1_0449_MR1_120.png</td>\n",
       "      <td>OAS1_0449_MR1</td>\n",
       "      <td>F</td>\n",
       "      <td>R</td>\n",
       "      <td>71</td>\n",
       "      <td>3</td>\n",
       "      <td>4.0</td>\n",
       "      <td>29</td>\n",
       "      <td>0.0</td>\n",
       "      <td>1264</td>\n",
       "      <td>0.818</td>\n",
       "      <td>1.388</td>\n",
       "      <td>NaN</td>\n",
       "      <td>120</td>\n",
       "    </tr>\n",
       "    <tr>\n",
       "      <th>605</th>\n",
       "      <td>605</td>\n",
       "      <td>OAS1_0449_MR1_180.png</td>\n",
       "      <td>OAS1_0449_MR1</td>\n",
       "      <td>F</td>\n",
       "      <td>R</td>\n",
       "      <td>71</td>\n",
       "      <td>3</td>\n",
       "      <td>4.0</td>\n",
       "      <td>29</td>\n",
       "      <td>0.0</td>\n",
       "      <td>1264</td>\n",
       "      <td>0.818</td>\n",
       "      <td>1.388</td>\n",
       "      <td>NaN</td>\n",
       "      <td>180</td>\n",
       "    </tr>\n",
       "    <tr>\n",
       "      <th>606</th>\n",
       "      <td>606</td>\n",
       "      <td>OAS1_0456_MR1_55.png</td>\n",
       "      <td>OAS1_0456_MR1</td>\n",
       "      <td>M</td>\n",
       "      <td>R</td>\n",
       "      <td>61</td>\n",
       "      <td>5</td>\n",
       "      <td>2.0</td>\n",
       "      <td>30</td>\n",
       "      <td>0.0</td>\n",
       "      <td>1637</td>\n",
       "      <td>0.780</td>\n",
       "      <td>1.072</td>\n",
       "      <td>NaN</td>\n",
       "      <td>55</td>\n",
       "    </tr>\n",
       "    <tr>\n",
       "      <th>607</th>\n",
       "      <td>607</td>\n",
       "      <td>OAS1_0456_MR1_120.png</td>\n",
       "      <td>OAS1_0456_MR1</td>\n",
       "      <td>M</td>\n",
       "      <td>R</td>\n",
       "      <td>61</td>\n",
       "      <td>5</td>\n",
       "      <td>2.0</td>\n",
       "      <td>30</td>\n",
       "      <td>0.0</td>\n",
       "      <td>1637</td>\n",
       "      <td>0.780</td>\n",
       "      <td>1.072</td>\n",
       "      <td>NaN</td>\n",
       "      <td>120</td>\n",
       "    </tr>\n",
       "    <tr>\n",
       "      <th>608</th>\n",
       "      <td>608</td>\n",
       "      <td>OAS1_0456_MR1_180.png</td>\n",
       "      <td>OAS1_0456_MR1</td>\n",
       "      <td>M</td>\n",
       "      <td>R</td>\n",
       "      <td>61</td>\n",
       "      <td>5</td>\n",
       "      <td>2.0</td>\n",
       "      <td>30</td>\n",
       "      <td>0.0</td>\n",
       "      <td>1637</td>\n",
       "      <td>0.780</td>\n",
       "      <td>1.072</td>\n",
       "      <td>NaN</td>\n",
       "      <td>180</td>\n",
       "    </tr>\n",
       "  </tbody>\n",
       "</table>\n",
       "<p>609 rows × 15 columns</p>\n",
       "</div>"
      ],
      "text/plain": [
       "     Unnamed: 0               Filename             ID M/F Hand  Age  Educ  \\\n",
       "0             0   OAS1_0001_MR1_55.png  OAS1_0001_MR1   F    R   74     2   \n",
       "1             1  OAS1_0001_MR1_120.png  OAS1_0001_MR1   F    R   74     2   \n",
       "2             2  OAS1_0001_MR1_180.png  OAS1_0001_MR1   F    R   74     2   \n",
       "3             3   OAS1_0002_MR1_55.png  OAS1_0002_MR1   F    R   55     4   \n",
       "4             4  OAS1_0002_MR1_120.png  OAS1_0002_MR1   F    R   55     4   \n",
       "..          ...                    ...            ...  ..  ...  ...   ...   \n",
       "604         604  OAS1_0449_MR1_120.png  OAS1_0449_MR1   F    R   71     3   \n",
       "605         605  OAS1_0449_MR1_180.png  OAS1_0449_MR1   F    R   71     3   \n",
       "606         606   OAS1_0456_MR1_55.png  OAS1_0456_MR1   M    R   61     5   \n",
       "607         607  OAS1_0456_MR1_120.png  OAS1_0456_MR1   M    R   61     5   \n",
       "608         608  OAS1_0456_MR1_180.png  OAS1_0456_MR1   M    R   61     5   \n",
       "\n",
       "     SES  MMSE  CDR  eTIV   nWBV    ASF  Delay  Slice  \n",
       "0    3.0    29  0.0  1344  0.743  1.306    NaN     55  \n",
       "1    3.0    29  0.0  1344  0.743  1.306    NaN    120  \n",
       "2    3.0    29  0.0  1344  0.743  1.306    NaN    180  \n",
       "3    1.0    29  0.0  1147  0.810  1.531    NaN     55  \n",
       "4    1.0    29  0.0  1147  0.810  1.531    NaN    120  \n",
       "..   ...   ...  ...   ...    ...    ...    ...    ...  \n",
       "604  4.0    29  0.0  1264  0.818  1.388    NaN    120  \n",
       "605  4.0    29  0.0  1264  0.818  1.388    NaN    180  \n",
       "606  2.0    30  0.0  1637  0.780  1.072    NaN     55  \n",
       "607  2.0    30  0.0  1637  0.780  1.072    NaN    120  \n",
       "608  2.0    30  0.0  1637  0.780  1.072    NaN    180  \n",
       "\n",
       "[609 rows x 15 columns]"
      ]
     },
     "metadata": {},
     "output_type": "display_data"
    }
   ],
   "source": [
    "file_dir = 'Downloads/MRI_Images/'\n",
    "labels = pd.read_csv(file_dir + 'labels.csv')\n",
    "# Using directory \n",
    "display(labels)\n",
    "y = labels.CDR\n",
    "y=(y*2).astype(int)"
   ]
  },
  {
   "cell_type": "code",
   "execution_count": 3,
   "metadata": {},
   "outputs": [],
   "source": [
    "data = np.zeros([609, 30976])\n",
    "\n",
    "for n, file_name in enumerate(labels.Filename):\n",
    "    data[n,:] = np.mean(matplotlib.image.imread(file_dir + file_name),axis=2).reshape(-1)\n",
    "# Now we can use the file name to read the data"
   ]
  },
  {
   "cell_type": "code",
   "execution_count": 4,
   "metadata": {},
   "outputs": [
    {
     "name": "stdout",
     "output_type": "stream",
     "text": [
      "(487,) (122,)\n"
     ]
    }
   ],
   "source": [
    "from sklearn.model_selection import train_test_split\n",
    "\n",
    "X_train, X_valid, y_train, y_valid = train_test_split(data, y, test_size=0.2, random_state=0)\n",
    "print(y_train.shape, y_valid.shape)"
   ]
  },
  {
   "cell_type": "code",
   "execution_count": 5,
   "metadata": {},
   "outputs": [
    {
     "name": "stdout",
     "output_type": "stream",
     "text": [
      "(609, 30976)\n",
      "(487, 30976) (487,)\n",
      "(122, 30976) (122,)\n"
     ]
    }
   ],
   "source": [
    "print(data.shape)\n",
    "print(X_train.shape, y_train.shape)\n",
    "print(X_valid.shape, y_valid.shape)"
   ]
  },
  {
   "cell_type": "code",
   "execution_count": 6,
   "metadata": {},
   "outputs": [
    {
     "data": {
      "text/plain": [
       "<matplotlib.image.AxesImage at 0x7fd6cbb9afd0>"
      ]
     },
     "execution_count": 6,
     "metadata": {},
     "output_type": "execute_result"
    },
    {
     "data": {
      "image/png": "[encoded data removed]",
      "text/plain": [
       "<Figure size 432x288 with 1 Axes>"
      ]
     },
     "metadata": {
      "needs_background": "light"
     },
     "output_type": "display_data"
    }
   ],
   "source": [
    "plt.imshow(X_train[1].reshape(176,176))"
   ]
  },
  {
   "cell_type": "code",
   "execution_count": 7,
   "metadata": {},
   "outputs": [
    {
     "data": {
      "text/plain": [
       "0.7598039507865906"
      ]
     },
     "execution_count": 7,
     "metadata": {},
     "output_type": "execute_result"
    }
   ],
   "source": [
    "max(X_train[1]) \n",
    "#The value already be normalized\n",
    "#Normalize the data if the data is not normalized\n",
    "#X_valid, X_train = X_valid / 255., X_train / 255. "
   ]
  },
  {
   "cell_type": "code",
   "execution_count": 8,
   "metadata": {},
   "outputs": [],
   "source": [
    "import tensorflow as tf"
   ]
  },
  {
   "cell_type": "code",
   "execution_count": 9,
   "metadata": {},
   "outputs": [],
   "source": [
    "from tensorflow import keras"
   ]
  },
  {
   "cell_type": "code",
   "execution_count": 10,
   "metadata": {},
   "outputs": [
    {
     "data": {
      "text/plain": [
       "'2.7.0'"
      ]
     },
     "execution_count": 10,
     "metadata": {},
     "output_type": "execute_result"
    }
   ],
   "source": [
    "tf.__version__"
   ]
  },
  {
   "cell_type": "code",
   "execution_count": 13,
   "metadata": {},
   "outputs": [
    {
     "name": "stdout",
     "output_type": "stream",
     "text": [
      "(487, 30976) (122, 30976)\n",
      "(487,) (122,)\n"
     ]
    }
   ],
   "source": [
    "print(X_train.shape, X_valid.shape)\n",
    "print(y_train.shape, y_valid.shape)"
   ]
  },
  {
   "cell_type": "code",
   "execution_count": 14,
   "metadata": {},
   "outputs": [
    {
     "data": {
      "text/plain": [
       "<matplotlib.image.AxesImage at 0x7fd6db264430>"
      ]
     },
     "execution_count": 14,
     "metadata": {},
     "output_type": "execute_result"
    },
    {
     "data": {
      "image/png": "[encoded data removed]",
      "text/plain": [
       "<Figure size 432x288 with 1 Axes>"
      ]
     },
     "metadata": {
      "needs_background": "light"
     },
     "output_type": "display_data"
    }
   ],
   "source": [
    "plt.imshow(X_train[1].reshape(176,176))"
   ]
  },
  {
   "cell_type": "code",
   "execution_count": 15,
   "metadata": {},
   "outputs": [
    {
     "data": {
      "text/plain": [
       "503    0\n",
       "90     0\n",
       "528    2\n",
       "446    1\n",
       "200    1\n",
       "      ..\n",
       "277    0\n",
       "9      0\n",
       "359    0\n",
       "192    0\n",
       "559    1\n",
       "Name: CDR, Length: 487, dtype: int64"
      ]
     },
     "execution_count": 15,
     "metadata": {},
     "output_type": "execute_result"
    }
   ],
   "source": [
    "y_train"
   ]
  },
  {
   "cell_type": "code",
   "execution_count": 16,
   "metadata": {},
   "outputs": [
    {
     "name": "stdout",
     "output_type": "stream",
     "text": [
      "(487, 30976) (487,)\n",
      "(122, 30976) (122,)\n"
     ]
    }
   ],
   "source": [
    "print(X_train.shape, y_train.shape)\n",
    "print(X_valid.shape, y_valid.shape)"
   ]
  },
  {
   "cell_type": "code",
   "execution_count": 17,
   "metadata": {},
   "outputs": [
    {
     "data": {
      "text/plain": [
       "dtype('float64')"
      ]
     },
     "execution_count": 17,
     "metadata": {},
     "output_type": "execute_result"
    }
   ],
   "source": [
    "X_train.dtype"
   ]
  },
  {
   "cell_type": "code",
   "execution_count": 18,
   "metadata": {},
   "outputs": [],
   "source": [
    "class_names = [\"0\", \"1\", \"2\", \"4\"]"
   ]
  },
  {
   "cell_type": "code",
   "execution_count": 19,
   "metadata": {},
   "outputs": [
    {
     "data": {
      "text/plain": [
       "'0'"
      ]
     },
     "execution_count": 19,
     "metadata": {},
     "output_type": "execute_result"
    }
   ],
   "source": [
    "class_names[y_train[0]]"
   ]
  },
  {
   "cell_type": "code",
   "execution_count": 20,
   "metadata": {},
   "outputs": [
    {
     "data": {
      "text/plain": [
       "(122, 30976)"
      ]
     },
     "execution_count": 20,
     "metadata": {},
     "output_type": "execute_result"
    }
   ],
   "source": [
    "X_valid.shape"
   ]
  },
  {
   "cell_type": "code",
   "execution_count": 21,
   "metadata": {},
   "outputs": [
    {
     "data": {
      "text/plain": [
       "(487, 30976)"
      ]
     },
     "execution_count": 21,
     "metadata": {},
     "output_type": "execute_result"
    }
   ],
   "source": [
    "X_train.shape"
   ]
  },
  {
   "cell_type": "code",
   "execution_count": 22,
   "metadata": {},
   "outputs": [],
   "source": [
    "model = keras.models.Sequential()\n",
    "model.add(keras.layers.Flatten(input_shape=[309768]))\n",
    "model.add(keras.layers.Dense(300, activation=\"relu\"))\n",
    "model.add(keras.layers.Dense(100, activation=\"relu\"))\n",
    "model.add(keras.layers.Dense(10, activation=\"softmax\"))"
   ]
  },
  {
   "cell_type": "code",
   "execution_count": 23,
   "metadata": {},
   "outputs": [],
   "source": [
    "keras.backend.clear_session()\n",
    "np.random.seed(42)\n",
    "tf.random.set_seed(42)"
   ]
  },
  {
   "cell_type": "code",
   "execution_count": 51,
   "metadata": {},
   "outputs": [],
   "source": [
    "model = keras.models.Sequential([\n",
    "    keras.layers.Flatten(input_shape=[30976]),\n",
    "    keras.layers.Dense(300, activation=\"relu\"),\n",
    "    keras.layers.Dense(100, activation=\"relu\"),\n",
    "    keras.layers.Dense(10, activation=\"softmax\")\n",
    "])"
   ]
  },
  {
   "cell_type": "code",
   "execution_count": 52,
   "metadata": {},
   "outputs": [
    {
     "data": {
      "text/plain": [
       "[<keras.layers.core.flatten.Flatten at 0x7fd69b827d00>,\n",
       " <keras.layers.core.dense.Dense at 0x7fd69b827e20>,\n",
       " <keras.layers.core.dense.Dense at 0x7fd69b823160>,\n",
       " <keras.layers.core.dense.Dense at 0x7fd69b831190>]"
      ]
     },
     "execution_count": 52,
     "metadata": {},
     "output_type": "execute_result"
    }
   ],
   "source": [
    "model.layers"
   ]
  },
  {
   "cell_type": "code",
   "execution_count": 53,
   "metadata": {},
   "outputs": [
    {
     "name": "stdout",
     "output_type": "stream",
     "text": [
      "Model: \"sequential_1\"\n",
      "_________________________________________________________________\n",
      " Layer (type)                Output Shape              Param #   \n",
      "=================================================================\n",
      " flatten_1 (Flatten)         (None, 30976)             0         \n",
      "                                                                 \n",
      " dense_3 (Dense)             (None, 300)               9293100   \n",
      "                                                                 \n",
      " dense_4 (Dense)             (None, 100)               30100     \n",
      "                                                                 \n",
      " dense_5 (Dense)             (None, 10)                1010      \n",
      "                                                                 \n",
      "=================================================================\n",
      "Total params: 9,324,210\n",
      "Trainable params: 9,324,210\n",
      "Non-trainable params: 0\n",
      "_________________________________________________________________\n"
     ]
    }
   ],
   "source": [
    "model.summary()"
   ]
  },
  {
   "cell_type": "code",
   "execution_count": 54,
   "metadata": {},
   "outputs": [],
   "source": [
    "from keras.utils.vis_utils import plot_model"
   ]
  },
  {
   "cell_type": "code",
   "execution_count": 55,
   "metadata": {},
   "outputs": [
    {
     "name": "stdout",
     "output_type": "stream",
     "text": [
      "('You must install pydot (`pip install pydot`) and install graphviz (see instructions at https://graphviz.gitlab.io/download/) ', 'for plot_model/model_to_dot to work.')\n"
     ]
    }
   ],
   "source": [
    "keras.utils.plot_model(model, \"my_mri_model.png\", show_shapes=True)"
   ]
  },
  {
   "cell_type": "code",
   "execution_count": 56,
   "metadata": {},
   "outputs": [
    {
     "name": "stdout",
     "output_type": "stream",
     "text": [
      "Requirement already satisfied: pydot in ./opt/anaconda3/lib/python3.8/site-packages (1.4.2)\n",
      "Requirement already satisfied: pyparsing>=2.1.4 in ./opt/anaconda3/lib/python3.8/site-packages (from pydot) (2.4.7)\n",
      "Note: you may need to restart the kernel to use updated packages.\n"
     ]
    }
   ],
   "source": [
    "pip install pydot"
   ]
  },
  {
   "cell_type": "code",
   "execution_count": 57,
   "metadata": {},
   "outputs": [
    {
     "name": "stdout",
     "output_type": "stream",
     "text": [
      "Requirement already satisfied: graphviz in ./opt/anaconda3/lib/python3.8/site-packages (0.18.2)\n",
      "Note: you may need to restart the kernel to use updated packages.\n"
     ]
    }
   ],
   "source": [
    "pip install graphviz"
   ]
  },
  {
   "cell_type": "code",
   "execution_count": 58,
   "metadata": {},
   "outputs": [
    {
     "name": "stdout",
     "output_type": "stream",
     "text": [
      "('You must install pydot (`pip install pydot`) and install graphviz (see instructions at https://graphviz.gitlab.io/download/) ', 'for plot_model/model_to_dot to work.')\n"
     ]
    }
   ],
   "source": [
    "keras.utils.plot_model(model, \"my_mri_model.png\", show_shapes=True)"
   ]
  },
  {
   "cell_type": "code",
   "execution_count": 59,
   "metadata": {},
   "outputs": [
    {
     "data": {
      "text/plain": [
       "'dense_3'"
      ]
     },
     "execution_count": 59,
     "metadata": {},
     "output_type": "execute_result"
    }
   ],
   "source": [
    "hidden1 = model.layers[1]\n",
    "hidden1.name"
   ]
  },
  {
   "cell_type": "code",
   "execution_count": 60,
   "metadata": {},
   "outputs": [
    {
     "data": {
      "text/plain": [
       "True"
      ]
     },
     "execution_count": 60,
     "metadata": {},
     "output_type": "execute_result"
    }
   ],
   "source": [
    "model.get_layer(hidden1.name) is hidden1"
   ]
  },
  {
   "cell_type": "code",
   "execution_count": 61,
   "metadata": {},
   "outputs": [],
   "source": [
    "weights, biases = hidden1.get_weights()"
   ]
  },
  {
   "cell_type": "code",
   "execution_count": 62,
   "metadata": {},
   "outputs": [
    {
     "data": {
      "text/plain": [
       "array([[ 0.0066547 , -0.00444933,  0.00191833, ..., -0.01145265,\n",
       "        -0.00840271,  0.00584582],\n",
       "       [-0.01017812,  0.00866856, -0.01349494, ..., -0.01310385,\n",
       "        -0.00574011, -0.01212545],\n",
       "       [-0.00602223, -0.00059059,  0.0076371 , ..., -0.00602798,\n",
       "         0.00365967, -0.00153686],\n",
       "       ...,\n",
       "       [-0.00126623,  0.00455396,  0.00593162, ..., -0.00722478,\n",
       "        -0.00503658,  0.00884821],\n",
       "       [-0.01153642,  0.01094453, -0.00974216, ...,  0.00877635,\n",
       "         0.0125655 ,  0.01258388],\n",
       "       [ 0.0091007 ,  0.00690378,  0.01361441, ...,  0.00181471,\n",
       "        -0.00528147, -0.00062054]], dtype=float32)"
      ]
     },
     "execution_count": 62,
     "metadata": {},
     "output_type": "execute_result"
    }
   ],
   "source": [
    "weights"
   ]
  },
  {
   "cell_type": "code",
   "execution_count": 63,
   "metadata": {},
   "outputs": [
    {
     "data": {
      "text/plain": [
       "(30976, 300)"
      ]
     },
     "execution_count": 63,
     "metadata": {},
     "output_type": "execute_result"
    }
   ],
   "source": [
    "weights.shape"
   ]
  },
  {
   "cell_type": "code",
   "execution_count": 64,
   "metadata": {},
   "outputs": [
    {
     "data": {
      "text/plain": [
       "array([0., 0., 0., 0., 0., 0., 0., 0., 0., 0., 0., 0., 0., 0., 0., 0., 0.,\n",
       "       0., 0., 0., 0., 0., 0., 0., 0., 0., 0., 0., 0., 0., 0., 0., 0., 0.,\n",
       "       0., 0., 0., 0., 0., 0., 0., 0., 0., 0., 0., 0., 0., 0., 0., 0., 0.,\n",
       "       0., 0., 0., 0., 0., 0., 0., 0., 0., 0., 0., 0., 0., 0., 0., 0., 0.,\n",
       "       0., 0., 0., 0., 0., 0., 0., 0., 0., 0., 0., 0., 0., 0., 0., 0., 0.,\n",
       "       0., 0., 0., 0., 0., 0., 0., 0., 0., 0., 0., 0., 0., 0., 0., 0., 0.,\n",
       "       0., 0., 0., 0., 0., 0., 0., 0., 0., 0., 0., 0., 0., 0., 0., 0., 0.,\n",
       "       0., 0., 0., 0., 0., 0., 0., 0., 0., 0., 0., 0., 0., 0., 0., 0., 0.,\n",
       "       0., 0., 0., 0., 0., 0., 0., 0., 0., 0., 0., 0., 0., 0., 0., 0., 0.,\n",
       "       0., 0., 0., 0., 0., 0., 0., 0., 0., 0., 0., 0., 0., 0., 0., 0., 0.,\n",
       "       0., 0., 0., 0., 0., 0., 0., 0., 0., 0., 0., 0., 0., 0., 0., 0., 0.,\n",
       "       0., 0., 0., 0., 0., 0., 0., 0., 0., 0., 0., 0., 0., 0., 0., 0., 0.,\n",
       "       0., 0., 0., 0., 0., 0., 0., 0., 0., 0., 0., 0., 0., 0., 0., 0., 0.,\n",
       "       0., 0., 0., 0., 0., 0., 0., 0., 0., 0., 0., 0., 0., 0., 0., 0., 0.,\n",
       "       0., 0., 0., 0., 0., 0., 0., 0., 0., 0., 0., 0., 0., 0., 0., 0., 0.,\n",
       "       0., 0., 0., 0., 0., 0., 0., 0., 0., 0., 0., 0., 0., 0., 0., 0., 0.,\n",
       "       0., 0., 0., 0., 0., 0., 0., 0., 0., 0., 0., 0., 0., 0., 0., 0., 0.,\n",
       "       0., 0., 0., 0., 0., 0., 0., 0., 0., 0., 0.], dtype=float32)"
      ]
     },
     "execution_count": 64,
     "metadata": {},
     "output_type": "execute_result"
    }
   ],
   "source": [
    "biases"
   ]
  },
  {
   "cell_type": "code",
   "execution_count": 65,
   "metadata": {},
   "outputs": [
    {
     "data": {
      "text/plain": [
       "(300,)"
      ]
     },
     "execution_count": 65,
     "metadata": {},
     "output_type": "execute_result"
    }
   ],
   "source": [
    "biases.shape"
   ]
  },
  {
   "cell_type": "code",
   "execution_count": null,
   "metadata": {},
   "outputs": [],
   "source": []
  },
  {
   "cell_type": "code",
   "execution_count": 66,
   "metadata": {},
   "outputs": [],
   "source": [
    "model.compile(loss=\"sparse_categorical_crossentropy\",\n",
    "              optimizer=\"sgd\",\n",
    "              metrics=[\"accuracy\"])"
   ]
  },
  {
   "cell_type": "code",
   "execution_count": 71,
   "metadata": {},
   "outputs": [
    {
     "name": "stdout",
     "output_type": "stream",
     "text": [
      "Epoch 1/30\n",
      "4/4 [==============================] - 0s 87ms/step - loss: 0.9938 - accuracy: 0.5791 - val_loss: 1.0431 - val_accuracy: 0.5410\n",
      "Epoch 2/30\n",
      "4/4 [==============================] - 0s 70ms/step - loss: 0.9709 - accuracy: 0.5791 - val_loss: 1.0444 - val_accuracy: 0.5410\n",
      "Epoch 3/30\n",
      "4/4 [==============================] - 0s 67ms/step - loss: 0.9743 - accuracy: 0.5791 - val_loss: 1.0447 - val_accuracy: 0.5410\n",
      "Epoch 4/30\n",
      "4/4 [==============================] - 0s 81ms/step - loss: 0.9756 - accuracy: 0.5791 - val_loss: 1.0430 - val_accuracy: 0.5410\n",
      "Epoch 5/30\n",
      "4/4 [==============================] - 0s 72ms/step - loss: 0.9725 - accuracy: 0.5791 - val_loss: 1.0403 - val_accuracy: 0.5410\n",
      "Epoch 6/30\n",
      "4/4 [==============================] - 0s 78ms/step - loss: 0.9740 - accuracy: 0.5791 - val_loss: 1.0383 - val_accuracy: 0.5410\n",
      "Epoch 7/30\n",
      "4/4 [==============================] - 0s 69ms/step - loss: 0.9752 - accuracy: 0.5791 - val_loss: 1.0472 - val_accuracy: 0.5410\n",
      "Epoch 8/30\n",
      "4/4 [==============================] - 0s 69ms/step - loss: 0.9797 - accuracy: 0.5791 - val_loss: 1.0534 - val_accuracy: 0.5410\n",
      "Epoch 9/30\n",
      "4/4 [==============================] - 0s 80ms/step - loss: 0.9750 - accuracy: 0.5791 - val_loss: 1.0362 - val_accuracy: 0.5410\n",
      "Epoch 10/30\n",
      "4/4 [==============================] - 0s 79ms/step - loss: 0.9711 - accuracy: 0.5791 - val_loss: 1.0351 - val_accuracy: 0.5410\n",
      "Epoch 11/30\n",
      "4/4 [==============================] - 0s 65ms/step - loss: 0.9697 - accuracy: 0.5791 - val_loss: 1.0363 - val_accuracy: 0.5410\n",
      "Epoch 12/30\n",
      "4/4 [==============================] - 0s 66ms/step - loss: 0.9725 - accuracy: 0.5791 - val_loss: 1.0363 - val_accuracy: 0.5410\n",
      "Epoch 13/30\n",
      "4/4 [==============================] - 0s 68ms/step - loss: 0.9708 - accuracy: 0.5791 - val_loss: 1.0392 - val_accuracy: 0.5410\n",
      "Epoch 14/30\n",
      "4/4 [==============================] - 0s 71ms/step - loss: 0.9704 - accuracy: 0.5791 - val_loss: 1.0342 - val_accuracy: 0.5410\n",
      "Epoch 15/30\n",
      "4/4 [==============================] - 0s 68ms/step - loss: 0.9708 - accuracy: 0.5791 - val_loss: 1.0372 - val_accuracy: 0.5410\n",
      "Epoch 16/30\n",
      "4/4 [==============================] - 0s 73ms/step - loss: 0.9750 - accuracy: 0.5791 - val_loss: 1.0306 - val_accuracy: 0.5410\n",
      "Epoch 17/30\n",
      "4/4 [==============================] - 0s 69ms/step - loss: 0.9718 - accuracy: 0.5791 - val_loss: 1.0356 - val_accuracy: 0.5410\n",
      "Epoch 18/30\n",
      "4/4 [==============================] - 0s 72ms/step - loss: 0.9739 - accuracy: 0.5791 - val_loss: 1.0425 - val_accuracy: 0.5410\n",
      "Epoch 19/30\n",
      "4/4 [==============================] - 0s 76ms/step - loss: 0.9713 - accuracy: 0.5791 - val_loss: 1.0440 - val_accuracy: 0.5410\n",
      "Epoch 20/30\n",
      "4/4 [==============================] - 0s 75ms/step - loss: 0.9697 - accuracy: 0.5791 - val_loss: 1.0438 - val_accuracy: 0.5410\n",
      "Epoch 21/30\n",
      "4/4 [==============================] - 0s 72ms/step - loss: 0.9709 - accuracy: 0.5791 - val_loss: 1.0336 - val_accuracy: 0.5410\n",
      "Epoch 22/30\n",
      "4/4 [==============================] - 0s 92ms/step - loss: 0.9696 - accuracy: 0.5791 - val_loss: 1.0328 - val_accuracy: 0.5410\n",
      "Epoch 23/30\n",
      "4/4 [==============================] - 0s 78ms/step - loss: 0.9729 - accuracy: 0.5791 - val_loss: 1.0613 - val_accuracy: 0.5410\n",
      "Epoch 24/30\n",
      "4/4 [==============================] - 0s 112ms/step - loss: 0.9708 - accuracy: 0.5791 - val_loss: 1.0392 - val_accuracy: 0.5410\n",
      "Epoch 25/30\n",
      "4/4 [==============================] - 0s 73ms/step - loss: 0.9707 - accuracy: 0.5791 - val_loss: 1.0431 - val_accuracy: 0.5410\n",
      "Epoch 26/30\n",
      "4/4 [==============================] - 0s 115ms/step - loss: 0.9678 - accuracy: 0.5791 - val_loss: 1.0380 - val_accuracy: 0.5410\n",
      "Epoch 27/30\n",
      "4/4 [==============================] - 1s 172ms/step - loss: 0.9715 - accuracy: 0.5791 - val_loss: 1.0353 - val_accuracy: 0.5410\n",
      "Epoch 28/30\n",
      "4/4 [==============================] - 1s 166ms/step - loss: 0.9808 - accuracy: 0.5791 - val_loss: 1.0354 - val_accuracy: 0.5410\n",
      "Epoch 29/30\n",
      "4/4 [==============================] - 0s 129ms/step - loss: 0.9764 - accuracy: 0.5791 - val_loss: 1.0371 - val_accuracy: 0.5410\n",
      "Epoch 30/30\n",
      "4/4 [==============================] - 0s 116ms/step - loss: 0.9688 - accuracy: 0.5791 - val_loss: 1.0552 - val_accuracy: 0.5410\n"
     ]
    }
   ],
   "source": [
    "history = model.fit(X_train, y_train,\n",
    "          batch_size=128 , epochs=30,\n",
    "          verbose=1,\n",
    "          validation_data=(X_valid, y_valid))"
   ]
  },
  {
   "cell_type": "code",
   "execution_count": 72,
   "metadata": {},
   "outputs": [
    {
     "name": "stdout",
     "output_type": "stream",
     "text": [
      "Epoch 1/30\n",
      "16/16 [==============================] - 1s 34ms/step - loss: 0.9755 - accuracy: 0.5791 - val_loss: 1.0442 - val_accuracy: 0.5410\n",
      "Epoch 2/30\n",
      "16/16 [==============================] - 1s 39ms/step - loss: 0.9856 - accuracy: 0.5791 - val_loss: 1.0752 - val_accuracy: 0.5410\n",
      "Epoch 3/30\n",
      "16/16 [==============================] - 1s 59ms/step - loss: 0.9902 - accuracy: 0.5791 - val_loss: 1.0921 - val_accuracy: 0.5410\n",
      "Epoch 4/30\n",
      "16/16 [==============================] - 1s 53ms/step - loss: 0.9776 - accuracy: 0.5791 - val_loss: 1.2036 - val_accuracy: 0.2869\n",
      "Epoch 5/30\n",
      "16/16 [==============================] - 1s 37ms/step - loss: 0.9865 - accuracy: 0.5585 - val_loss: 1.0765 - val_accuracy: 0.5410\n",
      "Epoch 6/30\n",
      "16/16 [==============================] - 1s 35ms/step - loss: 0.9784 - accuracy: 0.5791 - val_loss: 1.1041 - val_accuracy: 0.5410\n",
      "Epoch 7/30\n",
      "16/16 [==============================] - 1s 38ms/step - loss: 0.9891 - accuracy: 0.5791 - val_loss: 1.0957 - val_accuracy: 0.5410\n",
      "Epoch 8/30\n",
      "16/16 [==============================] - 1s 52ms/step - loss: 0.9910 - accuracy: 0.5791 - val_loss: 1.0759 - val_accuracy: 0.5410\n",
      "Epoch 9/30\n",
      "16/16 [==============================] - 1s 67ms/step - loss: 0.9821 - accuracy: 0.5791 - val_loss: 1.0748 - val_accuracy: 0.5410\n",
      "Epoch 10/30\n",
      "16/16 [==============================] - 1s 58ms/step - loss: 0.9812 - accuracy: 0.5791 - val_loss: 1.0432 - val_accuracy: 0.5410\n",
      "Epoch 11/30\n",
      "16/16 [==============================] - 1s 36ms/step - loss: 0.9839 - accuracy: 0.5791 - val_loss: 1.0442 - val_accuracy: 0.5410\n",
      "Epoch 12/30\n",
      "16/16 [==============================] - 1s 56ms/step - loss: 0.9777 - accuracy: 0.5791 - val_loss: 1.0315 - val_accuracy: 0.5410\n",
      "Epoch 13/30\n",
      "16/16 [==============================] - 1s 44ms/step - loss: 0.9802 - accuracy: 0.5791 - val_loss: 1.0415 - val_accuracy: 0.5410\n",
      "Epoch 14/30\n",
      "16/16 [==============================] - 1s 39ms/step - loss: 0.9781 - accuracy: 0.5791 - val_loss: 1.0561 - val_accuracy: 0.5410\n",
      "Epoch 15/30\n",
      "16/16 [==============================] - 1s 36ms/step - loss: 0.9814 - accuracy: 0.5791 - val_loss: 1.0328 - val_accuracy: 0.5410\n",
      "Epoch 16/30\n",
      "16/16 [==============================] - 1s 31ms/step - loss: 0.9742 - accuracy: 0.5791 - val_loss: 1.0491 - val_accuracy: 0.5410\n",
      "Epoch 17/30\n",
      "16/16 [==============================] - 1s 41ms/step - loss: 0.9802 - accuracy: 0.5791 - val_loss: 1.0498 - val_accuracy: 0.5410\n",
      "Epoch 18/30\n",
      "16/16 [==============================] - 1s 34ms/step - loss: 0.9806 - accuracy: 0.5791 - val_loss: 1.0667 - val_accuracy: 0.5410\n",
      "Epoch 19/30\n",
      "16/16 [==============================] - 1s 35ms/step - loss: 0.9822 - accuracy: 0.5791 - val_loss: 1.1160 - val_accuracy: 0.2869\n",
      "Epoch 20/30\n",
      "16/16 [==============================] - 0s 31ms/step - loss: 0.9849 - accuracy: 0.5585 - val_loss: 1.0462 - val_accuracy: 0.5410\n",
      "Epoch 21/30\n",
      "16/16 [==============================] - 1s 33ms/step - loss: 0.9710 - accuracy: 0.5791 - val_loss: 1.0654 - val_accuracy: 0.5410\n",
      "Epoch 22/30\n",
      "16/16 [==============================] - 0s 31ms/step - loss: 0.9781 - accuracy: 0.5791 - val_loss: 1.0524 - val_accuracy: 0.5410\n",
      "Epoch 23/30\n",
      "16/16 [==============================] - 0s 28ms/step - loss: 0.9767 - accuracy: 0.5791 - val_loss: 1.1144 - val_accuracy: 0.5410\n",
      "Epoch 24/30\n",
      "16/16 [==============================] - 1s 32ms/step - loss: 0.9791 - accuracy: 0.5791 - val_loss: 1.0790 - val_accuracy: 0.5410\n",
      "Epoch 25/30\n",
      "16/16 [==============================] - 1s 32ms/step - loss: 0.9844 - accuracy: 0.5791 - val_loss: 1.1509 - val_accuracy: 0.5410\n",
      "Epoch 26/30\n",
      "16/16 [==============================] - 1s 39ms/step - loss: 0.9851 - accuracy: 0.5791 - val_loss: 1.0672 - val_accuracy: 0.5410\n",
      "Epoch 27/30\n",
      "16/16 [==============================] - 1s 54ms/step - loss: 0.9753 - accuracy: 0.5791 - val_loss: 1.0723 - val_accuracy: 0.5410\n",
      "Epoch 28/30\n",
      "16/16 [==============================] - 1s 34ms/step - loss: 0.9776 - accuracy: 0.5811 - val_loss: 1.0336 - val_accuracy: 0.5410\n",
      "Epoch 29/30\n",
      "16/16 [==============================] - 1s 34ms/step - loss: 0.9781 - accuracy: 0.5791 - val_loss: 1.0651 - val_accuracy: 0.5410\n",
      "Epoch 30/30\n",
      "16/16 [==============================] - 1s 33ms/step - loss: 0.9800 - accuracy: 0.5791 - val_loss: 1.1023 - val_accuracy: 0.5410\n"
     ]
    }
   ],
   "source": [
    "historysgd = model.fit(X_train, y_train, epochs=30,\n",
    "                    validation_data=(X_valid, y_valid))"
   ]
  },
  {
   "cell_type": "code",
   "execution_count": 73,
   "metadata": {},
   "outputs": [
    {
     "data": {
      "text/plain": [
       "{'verbose': 1, 'epochs': 30, 'steps': 4}"
      ]
     },
     "execution_count": 73,
     "metadata": {},
     "output_type": "execute_result"
    }
   ],
   "source": [
    "history.params"
   ]
  },
  {
   "cell_type": "code",
   "execution_count": 74,
   "metadata": {},
   "outputs": [
    {
     "name": "stdout",
     "output_type": "stream",
     "text": [
      "[0, 1, 2, 3, 4, 5, 6, 7, 8, 9, 10, 11, 12, 13, 14, 15, 16, 17, 18, 19, 20, 21, 22, 23, 24, 25, 26, 27, 28, 29]\n"
     ]
    }
   ],
   "source": [
    "print(history.epoch)"
   ]
  },
  {
   "cell_type": "code",
   "execution_count": 75,
   "metadata": {},
   "outputs": [
    {
     "data": {
      "text/plain": [
       "dict_keys(['loss', 'accuracy', 'val_loss', 'val_accuracy'])"
      ]
     },
     "execution_count": 75,
     "metadata": {},
     "output_type": "execute_result"
    }
   ],
   "source": [
    "history.history.keys()"
   ]
  },
  {
   "cell_type": "code",
   "execution_count": 76,
   "metadata": {},
   "outputs": [
    {
     "data": {
      "image/png": "[encoded data removed]",
      "text/plain": [
       "<Figure size 576x360 with 1 Axes>"
      ]
     },
     "metadata": {
      "needs_background": "light"
     },
     "output_type": "display_data"
    }
   ],
   "source": [
    "import pandas as pd\n",
    "\n",
    "pd.DataFrame(history.history).plot(figsize=(8, 5))\n",
    "plt.grid(True)\n",
    "plt.gca().set_ylim(0, 1)\n",
    " \n",
    "plt.show()"
   ]
  },
  {
   "cell_type": "code",
   "execution_count": 77,
   "metadata": {},
   "outputs": [
    {
     "data": {
      "image/png": "[encoded data removed]",
      "text/plain": [
       "<Figure size 576x360 with 1 Axes>"
      ]
     },
     "metadata": {
      "needs_background": "light"
     },
     "output_type": "display_data"
    }
   ],
   "source": [
    "pd.DataFrame(historysgd.history).plot(figsize=(8, 5))\n",
    "plt.grid(True)\n",
    "plt.gca().set_ylim(0, 1)\n",
    " \n",
    "plt.show()"
   ]
  },
  {
   "cell_type": "code",
   "execution_count": 79,
   "metadata": {},
   "outputs": [
    {
     "name": "stdout",
     "output_type": "stream",
     "text": [
      "(122, 30976) (122,)\n"
     ]
    }
   ],
   "source": [
    "print(X_valid.shape, y_valid.shape)"
   ]
  },
  {
   "cell_type": "code",
   "execution_count": 80,
   "metadata": {},
   "outputs": [
    {
     "name": "stdout",
     "output_type": "stream",
     "text": [
      "4/4 [==============================] - 0s 10ms/step - loss: 1.1023 - accuracy: 0.5410\n"
     ]
    },
    {
     "data": {
      "text/plain": [
       "[1.1023311614990234, 0.5409836173057556]"
      ]
     },
     "execution_count": 80,
     "metadata": {},
     "output_type": "execute_result"
    }
   ],
   "source": [
    "model.evaluate(X_valid, y_valid)"
   ]
  },
  {
   "cell_type": "code",
   "execution_count": 82,
   "metadata": {},
   "outputs": [
    {
     "data": {
      "text/plain": [
       "array([[0.52, 0.41, 0.07, 0.  , 0.01, 0.  , 0.  , 0.  , 0.  , 0.  ],\n",
       "       [0.53, 0.41, 0.06, 0.  , 0.01, 0.  , 0.  , 0.  , 0.  , 0.  ],\n",
       "       [0.52, 0.41, 0.06, 0.  , 0.01, 0.  , 0.  , 0.  , 0.  , 0.  ]],\n",
       "      dtype=float32)"
      ]
     },
     "execution_count": 82,
     "metadata": {},
     "output_type": "execute_result"
    }
   ],
   "source": [
    "X_new = X_valid[:3]\n",
    "y_proba = model.predict(X_new)\n",
    "y_proba.round(2)"
   ]
  },
  {
   "cell_type": "code",
   "execution_count": 83,
   "metadata": {},
   "outputs": [
    {
     "data": {
      "text/plain": [
       "array([0, 0, 0])"
      ]
     },
     "execution_count": 83,
     "metadata": {},
     "output_type": "execute_result"
    }
   ],
   "source": [
    "y_pred = np.argmax(model.predict(X_new), axis=-1)\n",
    "y_pred"
   ]
  },
  {
   "cell_type": "code",
   "execution_count": 235,
   "metadata": {},
   "outputs": [
    {
     "data": {
      "image/png": "[encoded data removed]",
      "text/plain": [
       "<Figure size 518.4x172.8 with 3 Axes>"
      ]
     },
     "metadata": {
      "needs_background": "light"
     },
     "output_type": "display_data"
    }
   ],
   "source": [
    "plt.figure(figsize=(7.2, 2.4))\n",
    "for index, image in enumerate(X_new):\n",
    "    plt.subplot(1, 3, index + 1)\n",
    "    plt.imshow(image.reshape(176,176))\n",
    "    plt.axis('off')\n",
    "    plt.title(class_names[y_valid.iloc[index]], fontsize=12)\n",
    "    plt.subplots_adjust(wspace=0.2, hspace=0.5)\n",
    "plt.show()\n",
    " "
   ]
  },
  {
   "cell_type": "code",
   "execution_count": 84,
   "metadata": {},
   "outputs": [
    {
     "data": {
      "text/plain": [
       "array(['0', '0', '0'], dtype='<U1')"
      ]
     },
     "execution_count": 84,
     "metadata": {},
     "output_type": "execute_result"
    }
   ],
   "source": [
    "np.array(class_names)[y_pred]"
   ]
  },
  {
   "cell_type": "code",
   "execution_count": 86,
   "metadata": {},
   "outputs": [
    {
     "data": {
      "text/plain": [
       "576    2\n",
       "52     1\n",
       "531    2\n",
       "Name: CDR, dtype: int64"
      ]
     },
     "execution_count": 86,
     "metadata": {},
     "output_type": "execute_result"
    }
   ],
   "source": [
    "y_new = y_valid[:3]\n",
    "y_new"
   ]
  },
  {
   "cell_type": "code",
   "execution_count": 94,
   "metadata": {},
   "outputs": [],
   "source": [
    "K = keras.backend\n",
    "\n",
    "class ExponentialLearningRate(keras.callbacks.Callback):\n",
    "    def __init__(self, factor):\n",
    "        self.factor = factor\n",
    "        self.rates = []\n",
    "        self.losses = []\n",
    "    def on_batch_end(self, batch, logs):\n",
    "        self.rates.append(K.get_value(self.model.optimizer.lr))\n",
    "        self.losses.append(logs[\"loss\"])\n",
    "        K.set_value(self.model.optimizer.lr, self.model.optimizer.lr * self.factor)"
   ]
  },
  {
   "cell_type": "code",
   "execution_count": 95,
   "metadata": {},
   "outputs": [],
   "source": [
    "keras.backend.clear_session()\n",
    "np.random.seed(42)\n",
    "tf.random.set_seed(42)"
   ]
  },
  {
   "cell_type": "code",
   "execution_count": 97,
   "metadata": {},
   "outputs": [],
   "source": [
    "model = keras.models.Sequential([\n",
    "    keras.layers.Flatten(input_shape=[30976]),\n",
    "    keras.layers.Dense(300, activation=\"relu\"),\n",
    "    keras.layers.Dense(100, activation=\"relu\"),\n",
    "    keras.layers.Dense(10, activation=\"softmax\")\n",
    "])"
   ]
  },
  {
   "cell_type": "code",
   "execution_count": 98,
   "metadata": {},
   "outputs": [],
   "source": [
    "model.compile(loss=\"sparse_categorical_crossentropy\",\n",
    "              optimizer=keras.optimizers.SGD(learning_rate=1e-3),\n",
    "              metrics=[\"accuracy\"])\n",
    "expon_lr = ExponentialLearningRate(factor=1.005)"
   ]
  },
  {
   "cell_type": "code",
   "execution_count": 99,
   "metadata": {},
   "outputs": [
    {
     "name": "stdout",
     "output_type": "stream",
     "text": [
      "16/16 [==============================] - 2s 124ms/step - loss: 1.2657 - accuracy: 0.5339 - val_loss: 1.1123 - val_accuracy: 0.5410\n"
     ]
    }
   ],
   "source": [
    "history = model.fit(X_train, y_train, epochs=1,\n",
    "                    validation_data=(X_valid, y_valid),\n",
    "                    callbacks=[expon_lr])"
   ]
  },
  {
   "cell_type": "code",
   "execution_count": 100,
   "metadata": {},
   "outputs": [
    {
     "data": {
      "text/plain": [
       "Text(0, 0.5, 'Loss')"
      ]
     },
     "execution_count": 100,
     "metadata": {},
     "output_type": "execute_result"
    },
    {
     "data": {
      "image/png": "[encoded data removed]",
      "text/plain": [
       "<Figure size 432x288 with 1 Axes>"
      ]
     },
     "metadata": {
      "needs_background": "light"
     },
     "output_type": "display_data"
    }
   ],
   "source": [
    "plt.plot(expon_lr.rates, expon_lr.losses)\n",
    "plt.gca().set_xscale('log')\n",
    "plt.hlines(min(expon_lr.losses), min(expon_lr.rates), max(expon_lr.rates))\n",
    "plt.axis([min(expon_lr.rates), max(expon_lr.rates), 0, expon_lr.losses[0]])\n",
    "plt.grid()\n",
    "plt.xlabel(\"Learning rate\")\n",
    "plt.ylabel(\"Loss\")"
   ]
  },
  {
   "cell_type": "code",
   "execution_count": 101,
   "metadata": {},
   "outputs": [
    {
     "data": {
      "text/plain": [
       "1.2656644582748413"
      ]
     },
     "execution_count": 101,
     "metadata": {},
     "output_type": "execute_result"
    }
   ],
   "source": [
    "min(expon_lr.losses)"
   ]
  },
  {
   "cell_type": "code",
   "execution_count": 102,
   "metadata": {},
   "outputs": [],
   "source": [
    "keras.backend.clear_session()\n",
    "np.random.seed(42)\n",
    "tf.random.set_seed(42)"
   ]
  },
  {
   "cell_type": "code",
   "execution_count": 106,
   "metadata": {},
   "outputs": [],
   "source": [
    "model = keras.models.Sequential([\n",
    "    keras.layers.Flatten(input_shape=[30976]),\n",
    "    keras.layers.Dense(300, activation=\"relu\"),\n",
    "    keras.layers.Dense(100, activation=\"relu\"),\n",
    "    keras.layers.Dense(10, activation=\"softmax\")\n",
    "])"
   ]
  },
  {
   "cell_type": "code",
   "execution_count": 127,
   "metadata": {},
   "outputs": [],
   "source": [
    "model.compile(loss=\"sparse_categorical_crossentropy\",\n",
    "              optimizer=keras.optimizers.SGD(lr=8e-1),\n",
    "              metrics=[\"accuracy\"])"
   ]
  },
  {
   "cell_type": "code",
   "execution_count": 128,
   "metadata": {},
   "outputs": [
    {
     "name": "stdout",
     "output_type": "stream",
     "text": [
      "Epoch 1/30\n",
      "16/16 [==============================] - 1s 36ms/step - loss: 0.9827 - accuracy: 0.5791 - val_loss: 1.0472 - val_accuracy: 0.5410\n",
      "Epoch 2/30\n",
      "16/16 [==============================] - 1s 34ms/step - loss: 0.9874 - accuracy: 0.5791 - val_loss: 1.0440 - val_accuracy: 0.5410\n",
      "Epoch 3/30\n",
      "16/16 [==============================] - 0s 31ms/step - loss: 0.9870 - accuracy: 0.5791 - val_loss: 1.0627 - val_accuracy: 0.5410\n",
      "Epoch 4/30\n",
      "16/16 [==============================] - 1s 32ms/step - loss: 0.9826 - accuracy: 0.5791 - val_loss: 1.1140 - val_accuracy: 0.2869\n",
      "Epoch 5/30\n",
      "16/16 [==============================] - 1s 32ms/step - loss: 0.9865 - accuracy: 0.5647 - val_loss: 1.0555 - val_accuracy: 0.5410\n",
      "Epoch 6/30\n",
      "16/16 [==============================] - 0s 29ms/step - loss: 0.9805 - accuracy: 0.5791 - val_loss: 1.0698 - val_accuracy: 0.5410\n",
      "Epoch 7/30\n",
      "16/16 [==============================] - 0s 32ms/step - loss: 0.9891 - accuracy: 0.5791 - val_loss: 1.0586 - val_accuracy: 0.5410\n",
      "Epoch 8/30\n",
      "16/16 [==============================] - 1s 33ms/step - loss: 0.9870 - accuracy: 0.5791 - val_loss: 1.0586 - val_accuracy: 0.5410\n",
      "Epoch 9/30\n",
      "16/16 [==============================] - 0s 29ms/step - loss: 0.9842 - accuracy: 0.5791 - val_loss: 1.0565 - val_accuracy: 0.5410\n",
      "Epoch 10/30\n",
      "16/16 [==============================] - 0s 27ms/step - loss: 0.9849 - accuracy: 0.5791 - val_loss: 1.0353 - val_accuracy: 0.5410\n",
      "Epoch 11/30\n",
      "16/16 [==============================] - 0s 27ms/step - loss: 0.9834 - accuracy: 0.5791 - val_loss: 1.0480 - val_accuracy: 0.5410\n",
      "Epoch 12/30\n",
      "16/16 [==============================] - 0s 27ms/step - loss: 0.9780 - accuracy: 0.5791 - val_loss: 1.0352 - val_accuracy: 0.5410\n",
      "Epoch 13/30\n",
      "16/16 [==============================] - 0s 27ms/step - loss: 0.9824 - accuracy: 0.5791 - val_loss: 1.0387 - val_accuracy: 0.5410\n",
      "Epoch 14/30\n",
      "16/16 [==============================] - 0s 29ms/step - loss: 0.9802 - accuracy: 0.5791 - val_loss: 1.0476 - val_accuracy: 0.5410\n",
      "Epoch 15/30\n",
      "16/16 [==============================] - 0s 26ms/step - loss: 0.9817 - accuracy: 0.5791 - val_loss: 1.0424 - val_accuracy: 0.5410\n",
      "Epoch 16/30\n",
      "16/16 [==============================] - 0s 28ms/step - loss: 0.9803 - accuracy: 0.5791 - val_loss: 1.0383 - val_accuracy: 0.5410\n",
      "Epoch 17/30\n",
      "16/16 [==============================] - 0s 28ms/step - loss: 0.9799 - accuracy: 0.5791 - val_loss: 1.0498 - val_accuracy: 0.5410\n",
      "Epoch 18/30\n",
      "16/16 [==============================] - 0s 29ms/step - loss: 0.9836 - accuracy: 0.5791 - val_loss: 1.0534 - val_accuracy: 0.5410\n",
      "Epoch 19/30\n",
      "16/16 [==============================] - 0s 28ms/step - loss: 0.9834 - accuracy: 0.5791 - val_loss: 1.0714 - val_accuracy: 0.5410\n",
      "Epoch 20/30\n",
      "16/16 [==============================] - 0s 30ms/step - loss: 0.9845 - accuracy: 0.5791 - val_loss: 1.0460 - val_accuracy: 0.5410\n",
      "Epoch 21/30\n",
      "16/16 [==============================] - 0s 30ms/step - loss: 0.9776 - accuracy: 0.5791 - val_loss: 1.0467 - val_accuracy: 0.5410\n",
      "Epoch 22/30\n",
      "16/16 [==============================] - 0s 30ms/step - loss: 0.9799 - accuracy: 0.5791 - val_loss: 1.0397 - val_accuracy: 0.5410\n",
      "Epoch 23/30\n",
      "16/16 [==============================] - 1s 32ms/step - loss: 0.9789 - accuracy: 0.5791 - val_loss: 1.0554 - val_accuracy: 0.5410\n",
      "Epoch 24/30\n",
      "16/16 [==============================] - 0s 30ms/step - loss: 0.9803 - accuracy: 0.5791 - val_loss: 1.0676 - val_accuracy: 0.5410\n",
      "Epoch 25/30\n",
      "16/16 [==============================] - 0s 31ms/step - loss: 0.9831 - accuracy: 0.5791 - val_loss: 1.0709 - val_accuracy: 0.5410\n",
      "Epoch 26/30\n",
      "16/16 [==============================] - 0s 30ms/step - loss: 0.9838 - accuracy: 0.5791 - val_loss: 1.0504 - val_accuracy: 0.5410\n",
      "Epoch 27/30\n",
      "16/16 [==============================] - 1s 33ms/step - loss: 0.9774 - accuracy: 0.5791 - val_loss: 1.0513 - val_accuracy: 0.5410\n",
      "Epoch 28/30\n",
      "16/16 [==============================] - 1s 35ms/step - loss: 0.9809 - accuracy: 0.5791 - val_loss: 1.0403 - val_accuracy: 0.5410\n",
      "Epoch 29/30\n",
      "16/16 [==============================] - 0s 31ms/step - loss: 0.9817 - accuracy: 0.5791 - val_loss: 1.0467 - val_accuracy: 0.5410\n",
      "Epoch 30/30\n",
      "16/16 [==============================] - 0s 29ms/step - loss: 0.9800 - accuracy: 0.5791 - val_loss: 1.0633 - val_accuracy: 0.5410\n"
     ]
    }
   ],
   "source": [
    "history = model.fit(X_train, y_train, epochs=30,\n",
    "                    validation_data=(X_valid, y_valid))"
   ]
  },
  {
   "cell_type": "code",
   "execution_count": 129,
   "metadata": {},
   "outputs": [
    {
     "name": "stdout",
     "output_type": "stream",
     "text": [
      "4/4 [==============================] - 0s 11ms/step - loss: 1.0633 - accuracy: 0.5410\n"
     ]
    },
    {
     "data": {
      "text/plain": [
       "[1.0632781982421875, 0.5409836173057556]"
      ]
     },
     "execution_count": 129,
     "metadata": {},
     "output_type": "execute_result"
    }
   ],
   "source": [
    "model.evaluate(X_valid, y_valid)"
   ]
  },
  {
   "cell_type": "code",
   "execution_count": 135,
   "metadata": {},
   "outputs": [],
   "source": [
    "from tensorflow.keras.callbacks import EarlyStopping\n",
    "from tensorflow.keras import layers, callbacks\n",
    "keras.backend.clear_session()\n",
    "np.random.seed(42)\n",
    "tf.random.set_seed(42)\n",
    "model = keras.models.Sequential([\n",
    "    keras.layers.Flatten(input_shape=[30976]),\n",
    "    keras.layers.Dense(300, activation=\"relu\"),\n",
    "    keras.layers.Dense(100, activation=\"relu\"),\n",
    "    keras.layers.Dense(10, activation=\"softmax\")\n",
    "])\n",
    "model.compile(loss=\"sparse_categorical_crossentropy\",\n",
    "              optimizer=keras.optimizers.SGD(lr=8e-1),\n",
    "              metrics=[\"accuracy\"])\n"
   ]
  },
  {
   "cell_type": "code",
   "execution_count": 136,
   "metadata": {},
   "outputs": [
    {
     "data": {
      "text/plain": [
       "'./my_mri_logs/run_001'"
      ]
     },
     "execution_count": 136,
     "metadata": {},
     "output_type": "execute_result"
    }
   ],
   "source": [
    "run_index = 1 # increment this at every run\n",
    "run_logdir = os.path.join(os.curdir, \"my_mri_logs\", \"run_{:03d}\".format(run_index))\n",
    "run_logdir"
   ]
  },
  {
   "cell_type": "code",
   "execution_count": 137,
   "metadata": {},
   "outputs": [],
   "source": [
    "import os"
   ]
  },
  {
   "cell_type": "code",
   "execution_count": 138,
   "metadata": {},
   "outputs": [
    {
     "data": {
      "text/plain": [
       "'./my_mri_logs/run_001'"
      ]
     },
     "execution_count": 138,
     "metadata": {},
     "output_type": "execute_result"
    }
   ],
   "source": [
    "run_index = 1 # increment this at every run\n",
    "run_logdir = os.path.join(os.curdir, \"my_mri_logs\", \"run_{:03d}\".format(run_index))\n",
    "run_logdir"
   ]
  },
  {
   "cell_type": "code",
   "execution_count": 139,
   "metadata": {},
   "outputs": [
    {
     "name": "stdout",
     "output_type": "stream",
     "text": [
      "Epoch 1/100\n",
      "16/16 [==============================] - 1s 43ms/step - loss: 2023778.0000 - accuracy: 0.4723 - val_loss: 1.4739 - val_accuracy: 0.5410\n",
      "Epoch 2/100\n",
      "16/16 [==============================] - 1s 36ms/step - loss: 1.1930 - accuracy: 0.5791 - val_loss: 1.1398 - val_accuracy: 0.5410\n",
      "Epoch 3/100\n",
      "16/16 [==============================] - 1s 39ms/step - loss: 1.0423 - accuracy: 0.5791 - val_loss: 1.1789 - val_accuracy: 0.2869\n",
      "Epoch 4/100\n",
      "16/16 [==============================] - 1s 34ms/step - loss: 1.0060 - accuracy: 0.5708 - val_loss: 1.7204 - val_accuracy: 0.2869\n",
      "Epoch 5/100\n",
      "16/16 [==============================] - 1s 33ms/step - loss: 1.0382 - accuracy: 0.5647 - val_loss: 1.0841 - val_accuracy: 0.5410\n",
      "Epoch 6/100\n",
      "16/16 [==============================] - 1s 35ms/step - loss: 0.9915 - accuracy: 0.5647 - val_loss: 1.1746 - val_accuracy: 0.2869\n",
      "Epoch 7/100\n",
      "16/16 [==============================] - 1s 35ms/step - loss: 1.0193 - accuracy: 0.5380 - val_loss: 1.0875 - val_accuracy: 0.5410\n",
      "Epoch 8/100\n",
      "16/16 [==============================] - 1s 43ms/step - loss: 1.0112 - accuracy: 0.5565 - val_loss: 1.0711 - val_accuracy: 0.5410\n",
      "Epoch 9/100\n",
      "16/16 [==============================] - 1s 37ms/step - loss: 0.9980 - accuracy: 0.5791 - val_loss: 1.0733 - val_accuracy: 0.5410\n",
      "Epoch 10/100\n",
      "16/16 [==============================] - 1s 40ms/step - loss: 0.9982 - accuracy: 0.5791 - val_loss: 1.0426 - val_accuracy: 0.5410\n",
      "Epoch 11/100\n",
      "16/16 [==============================] - 1s 37ms/step - loss: 0.9969 - accuracy: 0.5791 - val_loss: 1.0736 - val_accuracy: 0.5410\n",
      "Epoch 12/100\n",
      "16/16 [==============================] - 1s 45ms/step - loss: 0.9894 - accuracy: 0.5791 - val_loss: 1.0397 - val_accuracy: 0.5410\n",
      "Epoch 13/100\n",
      "16/16 [==============================] - 1s 42ms/step - loss: 0.9905 - accuracy: 0.5791 - val_loss: 1.0410 - val_accuracy: 0.5410\n",
      "Epoch 14/100\n",
      "16/16 [==============================] - 1s 40ms/step - loss: 0.9889 - accuracy: 0.5791 - val_loss: 1.0824 - val_accuracy: 0.5410\n",
      "Epoch 15/100\n",
      "16/16 [==============================] - 1s 35ms/step - loss: 0.9940 - accuracy: 0.5791 - val_loss: 1.0411 - val_accuracy: 0.5410\n",
      "Epoch 16/100\n",
      "16/16 [==============================] - 1s 42ms/step - loss: 0.9885 - accuracy: 0.5544 - val_loss: 1.0389 - val_accuracy: 0.5410\n",
      "Epoch 17/100\n",
      "16/16 [==============================] - 1s 42ms/step - loss: 0.9864 - accuracy: 0.5791 - val_loss: 1.0737 - val_accuracy: 0.5410\n",
      "Epoch 18/100\n",
      "16/16 [==============================] - 1s 40ms/step - loss: 0.9899 - accuracy: 0.5667 - val_loss: 1.1378 - val_accuracy: 0.2869\n",
      "Epoch 19/100\n",
      "16/16 [==============================] - 1s 42ms/step - loss: 0.9947 - accuracy: 0.5708 - val_loss: 1.1880 - val_accuracy: 0.2869\n",
      "Epoch 20/100\n",
      "16/16 [==============================] - 1s 59ms/step - loss: 0.9980 - accuracy: 0.5585 - val_loss: 1.0486 - val_accuracy: 0.5410\n",
      "Epoch 21/100\n",
      "16/16 [==============================] - 1s 37ms/step - loss: 0.9797 - accuracy: 0.5791 - val_loss: 1.0549 - val_accuracy: 0.5410\n",
      "Epoch 22/100\n",
      "16/16 [==============================] - 1s 45ms/step - loss: 0.9862 - accuracy: 0.5791 - val_loss: 1.0531 - val_accuracy: 0.5410\n",
      "Epoch 23/100\n",
      "16/16 [==============================] - 1s 40ms/step - loss: 0.9828 - accuracy: 0.5791 - val_loss: 1.0866 - val_accuracy: 0.5410\n",
      "Epoch 24/100\n",
      "16/16 [==============================] - 1s 36ms/step - loss: 0.9900 - accuracy: 0.5791 - val_loss: 1.1111 - val_accuracy: 0.5410\n",
      "Epoch 25/100\n",
      "16/16 [==============================] - 1s 33ms/step - loss: 0.9912 - accuracy: 0.5791 - val_loss: 1.1247 - val_accuracy: 0.5410\n",
      "Epoch 26/100\n",
      "16/16 [==============================] - 1s 39ms/step - loss: 0.9940 - accuracy: 0.5791 - val_loss: 1.0618 - val_accuracy: 0.5410\n",
      "Epoch 27/100\n",
      "16/16 [==============================] - 1s 38ms/step - loss: 0.9799 - accuracy: 0.5791 - val_loss: 1.0607 - val_accuracy: 0.5410\n",
      "Epoch 28/100\n",
      "16/16 [==============================] - 0s 31ms/step - loss: 0.9860 - accuracy: 0.5483 - val_loss: 1.0400 - val_accuracy: 0.5410\n",
      "Epoch 29/100\n",
      "16/16 [==============================] - 1s 34ms/step - loss: 0.9867 - accuracy: 0.5791 - val_loss: 1.0535 - val_accuracy: 0.5410\n",
      "Epoch 30/100\n",
      "16/16 [==============================] - 1s 38ms/step - loss: 0.9855 - accuracy: 0.5791 - val_loss: 1.1032 - val_accuracy: 0.5410\n",
      "Epoch 31/100\n",
      "16/16 [==============================] - 0s 31ms/step - loss: 0.9927 - accuracy: 0.5791 - val_loss: 1.0690 - val_accuracy: 0.5410\n",
      "Epoch 32/100\n",
      "16/16 [==============================] - 1s 40ms/step - loss: 0.9869 - accuracy: 0.5791 - val_loss: 1.0524 - val_accuracy: 0.5410\n"
     ]
    }
   ],
   "source": [
    "early_stopping_cb = keras.callbacks.EarlyStopping(\n",
    "    min_delta=0.001, # minimium amount of change to count as an improvement\n",
    "    patience=20, # how many epochs to wait before stopping\n",
    ")\n",
    "checkpoint_cb = keras.callbacks.ModelCheckpoint(\"my_m_model.h5\", save_best_only=True)\n",
    "tensorboard_cb = keras.callbacks.TensorBoard(run_logdir)\n",
    "\n",
    "history = model.fit(X_train, y_train, epochs=100,\n",
    "                    validation_data=(X_valid, y_valid),\n",
    "                    callbacks=[checkpoint_cb, early_stopping_cb, tensorboard_cb])"
   ]
  },
  {
   "cell_type": "code",
   "execution_count": 140,
   "metadata": {},
   "outputs": [
    {
     "name": "stdout",
     "output_type": "stream",
     "text": [
      "4/4 [==============================] - 0s 13ms/step - loss: 1.0444 - accuracy: 0.5410\n",
      "16/16 [==============================] - 0s 13ms/step - loss: 0.9798 - accuracy: 0.5791\n"
     ]
    },
    {
     "data": {
      "text/plain": [
       "[0.9798244833946228, 0.5790554285049438]"
      ]
     },
     "execution_count": 140,
     "metadata": {},
     "output_type": "execute_result"
    }
   ],
   "source": [
    "model = keras.models.load_model(\"my_mri_model.h5\") # rollback to best model\n",
    "model.evaluate(X_valid, y_valid)\n",
    "model.evaluate(X_train, y_train)"
   ]
  },
  {
   "cell_type": "code",
   "execution_count": 233,
   "metadata": {},
   "outputs": [
    {
     "data": {
      "image/png": "[encoded data removed]",
      "text/plain": [
       "<Figure size 518.4x172.8 with 3 Axes>"
      ]
     },
     "metadata": {
      "needs_background": "light"
     },
     "output_type": "display_data"
    }
   ],
   "source": [
    "plt.figure(figsize=(7.2, 2.4))\n",
    "for index, image in enumerate(X_new):\n",
    "    plt.subplot(1, 3, index + 1)\n",
    "    plt.imshow(image.reshape(176,176))\n",
    "    plt.axis('off')\n",
    "    plt.title(class_names[y_valid.iloc[index]], fontsize=12)\n",
    "    plt.subplots_adjust(wspace=0.2, hspace=0.5)\n",
    "plt.show()"
   ]
  },
  {
   "cell_type": "code",
   "execution_count": 226,
   "metadata": {},
   "outputs": [
    {
     "data": {
      "text/plain": [
       "['0', '1', '2', '4']"
      ]
     },
     "execution_count": 226,
     "metadata": {},
     "output_type": "execute_result"
    }
   ],
   "source": []
  },
  {
   "cell_type": "code",
   "execution_count": 230,
   "metadata": {},
   "outputs": [
    {
     "data": {
      "text/plain": [
       "pandas.core.series.Series"
      ]
     },
     "execution_count": 230,
     "metadata": {},
     "output_type": "execute_result"
    }
   ],
   "source": []
  },
  {
   "cell_type": "code",
   "execution_count": null,
   "metadata": {},
   "outputs": [],
   "source": []
  },
  {
   "cell_type": "code",
   "execution_count": null,
   "metadata": {},
   "outputs": [],
   "source": []
  },
  {
   "cell_type": "code",
   "execution_count": null,
   "metadata": {},
   "outputs": [],
   "source": []
  },
  {
   "cell_type": "code",
   "execution_count": null,
   "metadata": {},
   "outputs": [],
   "source": []
  },
  {
   "cell_type": "code",
   "execution_count": null,
   "metadata": {},
   "outputs": [],
   "source": []
  },
  {
   "cell_type": "markdown",
   "metadata": {},
   "source": [
    "# Problem 2:\n",
    "\n",
    "###  Try the same neural network for the down sampled Oasis 1 dataset."
   ]
  },
  {
   "cell_type": "code",
   "execution_count": null,
   "metadata": {},
   "outputs": [],
   "source": []
  },
  {
   "cell_type": "code",
   "execution_count": 144,
   "metadata": {},
   "outputs": [],
   "source": [
    "DS = 16             # Downsample rate, must be a multiple of 30976.\n",
    "# You can also try DS=4\n",
    "\n",
    "N_train = y_train.shape[0]  # The length of the training data\n",
    "y_train = np.array(y_train)\n",
    "\n",
    "if 30976/DS % 1 > 0:\n",
    "    print(\"Downsample rate is not a multiple of 30976\")\n",
    "    DS = 1\n",
    "    im_size = 30976\n",
    "else:\n",
    "    im_size = int(30976/DS)\n",
    "\n",
    "\n",
    "data = np.zeros([609, im_size])\n",
    "\n",
    "for i, file_name in enumerate(labels.Filename):\n",
    "    img = np.mean(matplotlib.image.imread(file_dir + file_name),axis=2).reshape(-1)\n",
    "    data[i,:] = img[::DS]            # Downsample the image"
   ]
  },
  {
   "cell_type": "code",
   "execution_count": 145,
   "metadata": {},
   "outputs": [],
   "source": [
    "from sklearn.model_selection import train_test_split\n",
    "\n",
    "X_train1, X_test1, y_train1, y_test1 = train_test_split(data, y, test_size=0.2, random_state=0)"
   ]
  },
  {
   "cell_type": "code",
   "execution_count": 146,
   "metadata": {},
   "outputs": [
    {
     "name": "stdout",
     "output_type": "stream",
     "text": [
      "(609, 1936)\n",
      "(487, 1936) (487,)\n",
      "(122, 1936) (122,)\n"
     ]
    }
   ],
   "source": [
    "print(data.shape)\n",
    "print(X_train1.shape, y_train1.shape)\n",
    "print(X_test1.shape, y_test1.shape)"
   ]
  },
  {
   "cell_type": "code",
   "execution_count": 147,
   "metadata": {},
   "outputs": [
    {
     "data": {
      "text/plain": [
       "<matplotlib.image.AxesImage at 0x7fd64d24e070>"
      ]
     },
     "execution_count": 147,
     "metadata": {},
     "output_type": "execute_result"
    },
    {
     "data": {
      "image/png": "[encoded data removed]",
      "text/plain": [
       "<Figure size 432x288 with 1 Axes>"
      ]
     },
     "metadata": {
      "needs_background": "light"
     },
     "output_type": "display_data"
    }
   ],
   "source": [
    "plt.imshow(X_train1[1].reshape(44,44))"
   ]
  },
  {
   "cell_type": "code",
   "execution_count": 148,
   "metadata": {},
   "outputs": [
    {
     "name": "stdout",
     "output_type": "stream",
     "text": [
      "(487, 1936) (122, 1936)\n",
      "(487,) (122,)\n"
     ]
    }
   ],
   "source": [
    "print(X_train1.shape, X_test1.shape)\n",
    "print(y_train1.shape, y_test1.shape)"
   ]
  },
  {
   "cell_type": "code",
   "execution_count": 149,
   "metadata": {},
   "outputs": [
    {
     "data": {
      "text/plain": [
       "503    0\n",
       "90     0\n",
       "528    2\n",
       "446    1\n",
       "200    1\n",
       "      ..\n",
       "277    0\n",
       "9      0\n",
       "359    0\n",
       "192    0\n",
       "559    1\n",
       "Name: CDR, Length: 487, dtype: int64"
      ]
     },
     "execution_count": 149,
     "metadata": {},
     "output_type": "execute_result"
    }
   ],
   "source": [
    "y_train1\n"
   ]
  },
  {
   "cell_type": "code",
   "execution_count": 159,
   "metadata": {},
   "outputs": [],
   "source": [
    "model1 = keras.models.Sequential()\n",
    "model1.add(keras.layers.Flatten(input_shape=[1936]))\n",
    "model1.add(keras.layers.Dense(300, activation=\"relu\"))\n",
    "model1.add(keras.layers.Dense(100, activation=\"relu\"))\n",
    "model1.add(keras.layers.Dense(10, activation=\"softmax\"))"
   ]
  },
  {
   "cell_type": "code",
   "execution_count": 160,
   "metadata": {},
   "outputs": [],
   "source": [
    "keras.backend.clear_session()\n",
    "np.random.seed(42)\n",
    "tf.random.set_seed(42)"
   ]
  },
  {
   "cell_type": "code",
   "execution_count": 162,
   "metadata": {},
   "outputs": [
    {
     "data": {
      "text/plain": [
       "[<keras.layers.core.flatten.Flatten at 0x7fd64d212a00>,\n",
       " <keras.layers.core.dense.Dense at 0x7fd64c1cf310>,\n",
       " <keras.layers.core.dense.Dense at 0x7fd64d25c610>,\n",
       " <keras.layers.core.dense.Dense at 0x7fd64c787160>]"
      ]
     },
     "execution_count": 162,
     "metadata": {},
     "output_type": "execute_result"
    }
   ],
   "source": [
    "model1.layers"
   ]
  },
  {
   "cell_type": "code",
   "execution_count": 163,
   "metadata": {},
   "outputs": [
    {
     "name": "stdout",
     "output_type": "stream",
     "text": [
      "Model: \"sequential\"\n",
      "_________________________________________________________________\n",
      " Layer (type)                Output Shape              Param #   \n",
      "=================================================================\n",
      " flatten (Flatten)           (None, 1936)              0         \n",
      "                                                                 \n",
      " dense (Dense)               (None, 300)               581100    \n",
      "                                                                 \n",
      " dense_1 (Dense)             (None, 100)               30100     \n",
      "                                                                 \n",
      " dense_2 (Dense)             (None, 10)                1010      \n",
      "                                                                 \n",
      "=================================================================\n",
      "Total params: 612,210\n",
      "Trainable params: 612,210\n",
      "Non-trainable params: 0\n",
      "_________________________________________________________________\n"
     ]
    }
   ],
   "source": [
    "model1.summary()"
   ]
  },
  {
   "cell_type": "code",
   "execution_count": 165,
   "metadata": {},
   "outputs": [
    {
     "name": "stdout",
     "output_type": "stream",
     "text": [
      "('You must install pydot (`pip install pydot`) and install graphviz (see instructions at https://graphviz.gitlab.io/download/) ', 'for plot_model/model_to_dot to work.')\n"
     ]
    }
   ],
   "source": [
    "keras.utils.plot_model(model1, \"my_mri_model1.png\", show_shapes=True)"
   ]
  },
  {
   "cell_type": "code",
   "execution_count": 166,
   "metadata": {},
   "outputs": [
    {
     "data": {
      "text/plain": [
       "'dense'"
      ]
     },
     "execution_count": 166,
     "metadata": {},
     "output_type": "execute_result"
    }
   ],
   "source": [
    "hidden2 = model1.layers[1]\n",
    "hidden2.name"
   ]
  },
  {
   "cell_type": "code",
   "execution_count": 168,
   "metadata": {},
   "outputs": [
    {
     "data": {
      "text/plain": [
       "True"
      ]
     },
     "execution_count": 168,
     "metadata": {},
     "output_type": "execute_result"
    }
   ],
   "source": [
    "model1.get_layer(hidden2.name) is hidden2"
   ]
  },
  {
   "cell_type": "code",
   "execution_count": 169,
   "metadata": {},
   "outputs": [],
   "source": [
    "weights1, biases1 = hidden2.get_weights()"
   ]
  },
  {
   "cell_type": "code",
   "execution_count": 170,
   "metadata": {},
   "outputs": [
    {
     "data": {
      "text/plain": [
       "array([[ 0.01704903, -0.00611184, -0.01524172, ..., -0.0192592 ,\n",
       "         0.02686964, -0.04796888],\n",
       "       [ 0.00331777, -0.02162187, -0.04084859, ...,  0.00419827,\n",
       "        -0.01924339, -0.02900225],\n",
       "       [-0.04309423, -0.04805638,  0.04945162, ..., -0.02950943,\n",
       "         0.04958511, -0.05104826],\n",
       "       ...,\n",
       "       [ 0.0123988 , -0.01498482, -0.04120352, ...,  0.02418825,\n",
       "         0.01021894,  0.01348232],\n",
       "       [ 0.00468966, -0.01223113, -0.0240629 , ...,  0.04875263,\n",
       "        -0.02289778,  0.02700316],\n",
       "       [-0.00498009,  0.03607713,  0.04675157, ...,  0.01949016,\n",
       "         0.02020126, -0.0209934 ]], dtype=float32)"
      ]
     },
     "execution_count": 170,
     "metadata": {},
     "output_type": "execute_result"
    }
   ],
   "source": [
    "weights1"
   ]
  },
  {
   "cell_type": "code",
   "execution_count": 171,
   "metadata": {},
   "outputs": [
    {
     "data": {
      "text/plain": [
       "(1936, 300)"
      ]
     },
     "execution_count": 171,
     "metadata": {},
     "output_type": "execute_result"
    }
   ],
   "source": [
    "weights1.shape"
   ]
  },
  {
   "cell_type": "code",
   "execution_count": 172,
   "metadata": {},
   "outputs": [
    {
     "data": {
      "text/plain": [
       "array([0., 0., 0., 0., 0., 0., 0., 0., 0., 0., 0., 0., 0., 0., 0., 0., 0.,\n",
       "       0., 0., 0., 0., 0., 0., 0., 0., 0., 0., 0., 0., 0., 0., 0., 0., 0.,\n",
       "       0., 0., 0., 0., 0., 0., 0., 0., 0., 0., 0., 0., 0., 0., 0., 0., 0.,\n",
       "       0., 0., 0., 0., 0., 0., 0., 0., 0., 0., 0., 0., 0., 0., 0., 0., 0.,\n",
       "       0., 0., 0., 0., 0., 0., 0., 0., 0., 0., 0., 0., 0., 0., 0., 0., 0.,\n",
       "       0., 0., 0., 0., 0., 0., 0., 0., 0., 0., 0., 0., 0., 0., 0., 0., 0.,\n",
       "       0., 0., 0., 0., 0., 0., 0., 0., 0., 0., 0., 0., 0., 0., 0., 0., 0.,\n",
       "       0., 0., 0., 0., 0., 0., 0., 0., 0., 0., 0., 0., 0., 0., 0., 0., 0.,\n",
       "       0., 0., 0., 0., 0., 0., 0., 0., 0., 0., 0., 0., 0., 0., 0., 0., 0.,\n",
       "       0., 0., 0., 0., 0., 0., 0., 0., 0., 0., 0., 0., 0., 0., 0., 0., 0.,\n",
       "       0., 0., 0., 0., 0., 0., 0., 0., 0., 0., 0., 0., 0., 0., 0., 0., 0.,\n",
       "       0., 0., 0., 0., 0., 0., 0., 0., 0., 0., 0., 0., 0., 0., 0., 0., 0.,\n",
       "       0., 0., 0., 0., 0., 0., 0., 0., 0., 0., 0., 0., 0., 0., 0., 0., 0.,\n",
       "       0., 0., 0., 0., 0., 0., 0., 0., 0., 0., 0., 0., 0., 0., 0., 0., 0.,\n",
       "       0., 0., 0., 0., 0., 0., 0., 0., 0., 0., 0., 0., 0., 0., 0., 0., 0.,\n",
       "       0., 0., 0., 0., 0., 0., 0., 0., 0., 0., 0., 0., 0., 0., 0., 0., 0.,\n",
       "       0., 0., 0., 0., 0., 0., 0., 0., 0., 0., 0., 0., 0., 0., 0., 0., 0.,\n",
       "       0., 0., 0., 0., 0., 0., 0., 0., 0., 0., 0.], dtype=float32)"
      ]
     },
     "execution_count": 172,
     "metadata": {},
     "output_type": "execute_result"
    }
   ],
   "source": [
    "biases1\n"
   ]
  },
  {
   "cell_type": "code",
   "execution_count": 173,
   "metadata": {},
   "outputs": [
    {
     "data": {
      "text/plain": [
       "(300,)"
      ]
     },
     "execution_count": 173,
     "metadata": {},
     "output_type": "execute_result"
    }
   ],
   "source": [
    "biases1.shape"
   ]
  },
  {
   "cell_type": "code",
   "execution_count": 174,
   "metadata": {},
   "outputs": [],
   "source": [
    "model1.compile(loss=\"sparse_categorical_crossentropy\",\n",
    "              optimizer=\"sgd\",\n",
    "              metrics=[\"accuracy\"])"
   ]
  },
  {
   "cell_type": "code",
   "execution_count": 176,
   "metadata": {},
   "outputs": [
    {
     "name": "stdout",
     "output_type": "stream",
     "text": [
      "Epoch 1/30\n",
      "4/4 [==============================] - 42s 65ms/step - loss: 1.4683 - accuracy: 0.5647 - val_loss: 1.2317 - val_accuracy: 0.5410\n",
      "Epoch 2/30\n",
      "4/4 [==============================] - 0s 79ms/step - loss: 1.0993 - accuracy: 0.5791 - val_loss: 1.1473 - val_accuracy: 0.5410\n",
      "Epoch 3/30\n",
      "4/4 [==============================] - 0s 16ms/step - loss: 1.0590 - accuracy: 0.5791 - val_loss: 1.1138 - val_accuracy: 0.5410\n",
      "Epoch 4/30\n",
      "4/4 [==============================] - 0s 15ms/step - loss: 1.0288 - accuracy: 0.5791 - val_loss: 1.0946 - val_accuracy: 0.5410\n",
      "Epoch 5/30\n",
      "4/4 [==============================] - 0s 14ms/step - loss: 1.0175 - accuracy: 0.5791 - val_loss: 1.0735 - val_accuracy: 0.5410\n",
      "Epoch 6/30\n",
      "4/4 [==============================] - 0s 16ms/step - loss: 1.0082 - accuracy: 0.5791 - val_loss: 1.0805 - val_accuracy: 0.5410\n",
      "Epoch 7/30\n",
      "4/4 [==============================] - 0s 12ms/step - loss: 1.0285 - accuracy: 0.5791 - val_loss: 1.0743 - val_accuracy: 0.5410\n",
      "Epoch 8/30\n",
      "4/4 [==============================] - 0s 15ms/step - loss: 1.0159 - accuracy: 0.5811 - val_loss: 1.1449 - val_accuracy: 0.5410\n",
      "Epoch 9/30\n",
      "4/4 [==============================] - 0s 20ms/step - loss: 1.0049 - accuracy: 0.5791 - val_loss: 1.0570 - val_accuracy: 0.5410\n",
      "Epoch 10/30\n",
      "4/4 [==============================] - 0s 21ms/step - loss: 0.9899 - accuracy: 0.5791 - val_loss: 1.0522 - val_accuracy: 0.5410\n",
      "Epoch 11/30\n",
      "4/4 [==============================] - 0s 29ms/step - loss: 0.9874 - accuracy: 0.5791 - val_loss: 1.0507 - val_accuracy: 0.5410\n",
      "Epoch 12/30\n",
      "4/4 [==============================] - 0s 13ms/step - loss: 0.9919 - accuracy: 0.5791 - val_loss: 1.0520 - val_accuracy: 0.5410\n",
      "Epoch 13/30\n",
      "4/4 [==============================] - 0s 15ms/step - loss: 0.9879 - accuracy: 0.5791 - val_loss: 1.0507 - val_accuracy: 0.5410\n",
      "Epoch 14/30\n",
      "4/4 [==============================] - 0s 24ms/step - loss: 0.9856 - accuracy: 0.5791 - val_loss: 1.0495 - val_accuracy: 0.5410\n",
      "Epoch 15/30\n",
      "4/4 [==============================] - 0s 25ms/step - loss: 0.9881 - accuracy: 0.5791 - val_loss: 1.0459 - val_accuracy: 0.5410\n",
      "Epoch 16/30\n",
      "4/4 [==============================] - 0s 14ms/step - loss: 0.9874 - accuracy: 0.5791 - val_loss: 1.0417 - val_accuracy: 0.5410\n",
      "Epoch 17/30\n",
      "4/4 [==============================] - 0s 19ms/step - loss: 0.9872 - accuracy: 0.5791 - val_loss: 1.0436 - val_accuracy: 0.5410\n",
      "Epoch 18/30\n",
      "4/4 [==============================] - 0s 27ms/step - loss: 0.9903 - accuracy: 0.5791 - val_loss: 1.0519 - val_accuracy: 0.5410\n",
      "Epoch 19/30\n",
      "4/4 [==============================] - 0s 28ms/step - loss: 0.9883 - accuracy: 0.5791 - val_loss: 1.0521 - val_accuracy: 0.5410\n",
      "Epoch 20/30\n",
      "4/4 [==============================] - 0s 20ms/step - loss: 0.9813 - accuracy: 0.5791 - val_loss: 1.0523 - val_accuracy: 0.5410\n",
      "Epoch 21/30\n",
      "4/4 [==============================] - 0s 26ms/step - loss: 0.9799 - accuracy: 0.5791 - val_loss: 1.0570 - val_accuracy: 0.5410\n",
      "Epoch 22/30\n",
      "4/4 [==============================] - 0s 21ms/step - loss: 0.9832 - accuracy: 0.5791 - val_loss: 1.0397 - val_accuracy: 0.5410\n",
      "Epoch 23/30\n",
      "4/4 [==============================] - 0s 20ms/step - loss: 0.9924 - accuracy: 0.5791 - val_loss: 1.0682 - val_accuracy: 0.5410\n",
      "Epoch 24/30\n",
      "4/4 [==============================] - 0s 23ms/step - loss: 0.9765 - accuracy: 0.5791 - val_loss: 1.0439 - val_accuracy: 0.5410\n",
      "Epoch 25/30\n",
      "4/4 [==============================] - 0s 17ms/step - loss: 0.9805 - accuracy: 0.5791 - val_loss: 1.0506 - val_accuracy: 0.5410\n",
      "Epoch 26/30\n",
      "4/4 [==============================] - 0s 17ms/step - loss: 0.9739 - accuracy: 0.5791 - val_loss: 1.0446 - val_accuracy: 0.5410\n",
      "Epoch 27/30\n",
      "4/4 [==============================] - 0s 17ms/step - loss: 0.9860 - accuracy: 0.5791 - val_loss: 1.0432 - val_accuracy: 0.5410\n",
      "Epoch 28/30\n",
      "4/4 [==============================] - 0s 14ms/step - loss: 1.0359 - accuracy: 0.4620 - val_loss: 1.0395 - val_accuracy: 0.5410\n",
      "Epoch 29/30\n",
      "4/4 [==============================] - 0s 16ms/step - loss: 1.0047 - accuracy: 0.5791 - val_loss: 1.0396 - val_accuracy: 0.5410\n",
      "Epoch 30/30\n",
      "4/4 [==============================] - 0s 15ms/step - loss: 0.9765 - accuracy: 0.5791 - val_loss: 1.0648 - val_accuracy: 0.5410\n"
     ]
    }
   ],
   "source": [
    "history1 = model1.fit(X_train1, y_train1,\n",
    "          batch_size=128 , epochs=30,\n",
    "          verbose=1,\n",
    "          validation_data=(X_test1, y_test1))"
   ]
  },
  {
   "cell_type": "code",
   "execution_count": 177,
   "metadata": {},
   "outputs": [
    {
     "name": "stdout",
     "output_type": "stream",
     "text": [
      "Epoch 1/30\n",
      "16/16 [==============================] - 0s 7ms/step - loss: 0.9946 - accuracy: 0.5708 - val_loss: 1.1236 - val_accuracy: 0.2869\n",
      "Epoch 2/30\n",
      "16/16 [==============================] - 0s 4ms/step - loss: 1.0264 - accuracy: 0.5236 - val_loss: 1.3014 - val_accuracy: 0.2869\n",
      "Epoch 3/30\n",
      "16/16 [==============================] - 0s 5ms/step - loss: 1.0411 - accuracy: 0.5113 - val_loss: 1.1519 - val_accuracy: 0.2869\n",
      "Epoch 4/30\n",
      "16/16 [==============================] - 0s 6ms/step - loss: 0.9878 - accuracy: 0.5770 - val_loss: 1.5816 - val_accuracy: 0.2869\n",
      "Epoch 5/30\n",
      "16/16 [==============================] - 0s 4ms/step - loss: 1.0108 - accuracy: 0.5647 - val_loss: 1.1422 - val_accuracy: 0.5410\n",
      "Epoch 6/30\n",
      "16/16 [==============================] - 0s 5ms/step - loss: 0.9855 - accuracy: 0.5647 - val_loss: 1.1560 - val_accuracy: 0.2869\n",
      "Epoch 7/30\n",
      "16/16 [==============================] - 0s 6ms/step - loss: 1.0117 - accuracy: 0.5380 - val_loss: 1.0980 - val_accuracy: 0.5410\n",
      "Epoch 8/30\n",
      "16/16 [==============================] - 0s 4ms/step - loss: 1.0168 - accuracy: 0.5298 - val_loss: 1.0737 - val_accuracy: 0.5410\n",
      "Epoch 9/30\n",
      "16/16 [==============================] - 0s 4ms/step - loss: 0.9998 - accuracy: 0.5544 - val_loss: 1.1072 - val_accuracy: 0.5410\n",
      "Epoch 10/30\n",
      "16/16 [==============================] - 0s 4ms/step - loss: 0.9918 - accuracy: 0.5708 - val_loss: 1.0744 - val_accuracy: 0.5410\n",
      "Epoch 11/30\n",
      "16/16 [==============================] - 0s 6ms/step - loss: 0.9974 - accuracy: 0.5811 - val_loss: 1.0717 - val_accuracy: 0.5410\n",
      "Epoch 12/30\n",
      "16/16 [==============================] - 0s 4ms/step - loss: 0.9891 - accuracy: 0.5708 - val_loss: 1.0456 - val_accuracy: 0.5410\n",
      "Epoch 13/30\n",
      "16/16 [==============================] - 0s 4ms/step - loss: 0.9844 - accuracy: 0.5791 - val_loss: 1.0429 - val_accuracy: 0.5410\n",
      "Epoch 14/30\n",
      "16/16 [==============================] - 0s 4ms/step - loss: 0.9865 - accuracy: 0.5791 - val_loss: 1.1089 - val_accuracy: 0.2787\n",
      "Epoch 15/30\n",
      "16/16 [==============================] - 0s 4ms/step - loss: 0.9925 - accuracy: 0.5626 - val_loss: 1.0356 - val_accuracy: 0.5410\n",
      "Epoch 16/30\n",
      "16/16 [==============================] - 0s 6ms/step - loss: 0.9849 - accuracy: 0.5565 - val_loss: 1.0398 - val_accuracy: 0.5410\n",
      "Epoch 17/30\n",
      "16/16 [==============================] - 0s 5ms/step - loss: 0.9809 - accuracy: 0.5791 - val_loss: 1.0819 - val_accuracy: 0.5410\n",
      "Epoch 18/30\n",
      "16/16 [==============================] - 0s 5ms/step - loss: 0.9836 - accuracy: 0.5688 - val_loss: 1.1714 - val_accuracy: 0.2869\n",
      "Epoch 19/30\n",
      "16/16 [==============================] - 0s 5ms/step - loss: 0.9938 - accuracy: 0.5708 - val_loss: 1.2553 - val_accuracy: 0.2869\n",
      "Epoch 20/30\n",
      "16/16 [==============================] - 0s 4ms/step - loss: 0.9998 - accuracy: 0.5585 - val_loss: 1.0487 - val_accuracy: 0.5410\n",
      "Epoch 21/30\n",
      "16/16 [==============================] - 0s 4ms/step - loss: 0.9736 - accuracy: 0.5791 - val_loss: 1.0973 - val_accuracy: 0.5410\n",
      "Epoch 22/30\n",
      "16/16 [==============================] - 0s 4ms/step - loss: 0.9855 - accuracy: 0.5791 - val_loss: 1.0625 - val_accuracy: 0.5410\n",
      "Epoch 23/30\n",
      "16/16 [==============================] - 0s 4ms/step - loss: 0.9787 - accuracy: 0.5791 - val_loss: 1.1340 - val_accuracy: 0.5410\n",
      "Epoch 24/30\n",
      "16/16 [==============================] - 0s 6ms/step - loss: 0.9880 - accuracy: 0.5791 - val_loss: 1.1484 - val_accuracy: 0.5410\n",
      "Epoch 25/30\n",
      "16/16 [==============================] - 0s 4ms/step - loss: 0.9903 - accuracy: 0.5524 - val_loss: 1.1978 - val_accuracy: 0.5410\n",
      "Epoch 26/30\n",
      "16/16 [==============================] - 0s 6ms/step - loss: 0.9944 - accuracy: 0.5791 - val_loss: 1.0816 - val_accuracy: 0.5410\n",
      "Epoch 27/30\n",
      "16/16 [==============================] - 0s 4ms/step - loss: 0.9766 - accuracy: 0.5791 - val_loss: 1.0830 - val_accuracy: 0.5410\n",
      "Epoch 28/30\n",
      "16/16 [==============================] - 0s 5ms/step - loss: 0.9830 - accuracy: 0.5483 - val_loss: 1.0407 - val_accuracy: 0.5410\n",
      "Epoch 29/30\n",
      "16/16 [==============================] - 0s 6ms/step - loss: 0.9847 - accuracy: 0.5688 - val_loss: 1.0756 - val_accuracy: 0.5410\n",
      "Epoch 30/30\n",
      "16/16 [==============================] - 0s 5ms/step - loss: 0.9872 - accuracy: 0.5791 - val_loss: 1.1471 - val_accuracy: 0.2787\n"
     ]
    }
   ],
   "source": [
    "historysgd1 = model1.fit(X_train1, y_train1, epochs=30,\n",
    "                    validation_data=(X_test1, y_test1))"
   ]
  },
  {
   "cell_type": "code",
   "execution_count": 178,
   "metadata": {},
   "outputs": [
    {
     "data": {
      "text/plain": [
       "{'verbose': 1, 'epochs': 30, 'steps': 4}"
      ]
     },
     "execution_count": 178,
     "metadata": {},
     "output_type": "execute_result"
    }
   ],
   "source": [
    "history1.params"
   ]
  },
  {
   "cell_type": "code",
   "execution_count": 179,
   "metadata": {},
   "outputs": [
    {
     "name": "stdout",
     "output_type": "stream",
     "text": [
      "[0, 1, 2, 3, 4, 5, 6, 7, 8, 9, 10, 11, 12, 13, 14, 15, 16, 17, 18, 19, 20, 21, 22, 23, 24, 25, 26, 27, 28, 29]\n"
     ]
    }
   ],
   "source": [
    "print(history1.epoch)"
   ]
  },
  {
   "cell_type": "code",
   "execution_count": 181,
   "metadata": {},
   "outputs": [
    {
     "data": {
      "text/plain": [
       "dict_keys(['loss', 'accuracy', 'val_loss', 'val_accuracy'])"
      ]
     },
     "execution_count": 181,
     "metadata": {},
     "output_type": "execute_result"
    }
   ],
   "source": [
    "history1.history.keys()"
   ]
  },
  {
   "cell_type": "code",
   "execution_count": 182,
   "metadata": {},
   "outputs": [
    {
     "data": {
      "image/png": "[encoded data removed]",
      "text/plain": [
       "<Figure size 576x360 with 1 Axes>"
      ]
     },
     "metadata": {
      "needs_background": "light"
     },
     "output_type": "display_data"
    }
   ],
   "source": [
    "import pandas as pd\n",
    "\n",
    "pd.DataFrame(history1.history).plot(figsize=(8, 5))\n",
    "plt.grid(True)\n",
    "plt.gca().set_ylim(0, 1)\n",
    " \n",
    "plt.show()"
   ]
  },
  {
   "cell_type": "code",
   "execution_count": 184,
   "metadata": {},
   "outputs": [
    {
     "data": {
      "image/png": "[encoded data removed]",
      "text/plain": [
       "<Figure size 576x360 with 1 Axes>"
      ]
     },
     "metadata": {
      "needs_background": "light"
     },
     "output_type": "display_data"
    }
   ],
   "source": [
    "pd.DataFrame(historysgd1.history).plot(figsize=(8, 5))\n",
    "plt.grid(True)\n",
    "plt.gca().set_ylim(0, 1)\n",
    " \n",
    "plt.show()"
   ]
  },
  {
   "cell_type": "code",
   "execution_count": 186,
   "metadata": {},
   "outputs": [
    {
     "name": "stdout",
     "output_type": "stream",
     "text": [
      "(122, 1936) (122,)\n"
     ]
    }
   ],
   "source": [
    "print(X_test1.shape, y_test1.shape)"
   ]
  },
  {
   "cell_type": "code",
   "execution_count": 188,
   "metadata": {},
   "outputs": [
    {
     "name": "stdout",
     "output_type": "stream",
     "text": [
      "4/4 [==============================] - 0s 4ms/step - loss: 1.1471 - accuracy: 0.2787\n"
     ]
    },
    {
     "data": {
      "text/plain": [
       "[1.1471210718154907, 0.2786885201931]"
      ]
     },
     "execution_count": 188,
     "metadata": {},
     "output_type": "execute_result"
    }
   ],
   "source": [
    "model1.evaluate(X_test1, y_test1)"
   ]
  },
  {
   "cell_type": "code",
   "execution_count": 192,
   "metadata": {},
   "outputs": [],
   "source": [
    "X_new1 = X_test1[:3]\n"
   ]
  },
  {
   "cell_type": "code",
   "execution_count": 193,
   "metadata": {},
   "outputs": [],
   "source": [
    "y_proba1 = model1.predict(X_new1)\n"
   ]
  },
  {
   "cell_type": "code",
   "execution_count": 194,
   "metadata": {},
   "outputs": [
    {
     "data": {
      "text/plain": [
       "array([[0.43, 0.5 , 0.06, 0.  , 0.01, 0.  , 0.  , 0.  , 0.  , 0.  ],\n",
       "       [0.42, 0.51, 0.06, 0.  , 0.01, 0.  , 0.  , 0.  , 0.  , 0.  ],\n",
       "       [0.42, 0.51, 0.06, 0.  , 0.01, 0.  , 0.  , 0.  , 0.  , 0.  ]],\n",
       "      dtype=float32)"
      ]
     },
     "execution_count": 194,
     "metadata": {},
     "output_type": "execute_result"
    }
   ],
   "source": [
    "y_proba1.round(2)"
   ]
  },
  {
   "cell_type": "code",
   "execution_count": 195,
   "metadata": {},
   "outputs": [
    {
     "name": "stdout",
     "output_type": "stream",
     "text": [
      "4/4 [==============================] - 0s 4ms/step - loss: 1.1471 - accuracy: 0.2787\n"
     ]
    },
    {
     "data": {
      "text/plain": [
       "[1.1471210718154907, 0.2786885201931]"
      ]
     },
     "execution_count": 195,
     "metadata": {},
     "output_type": "execute_result"
    }
   ],
   "source": [
    "model1.evaluate(X_test1, y_test1)"
   ]
  },
  {
   "cell_type": "code",
   "execution_count": 196,
   "metadata": {},
   "outputs": [
    {
     "data": {
      "text/plain": [
       "array([1, 1, 1])"
      ]
     },
     "execution_count": 196,
     "metadata": {},
     "output_type": "execute_result"
    }
   ],
   "source": [
    "y_pred1 = np.argmax(model1.predict(X_new1), axis=-1)\n",
    "y_pred1"
   ]
  },
  {
   "cell_type": "code",
   "execution_count": 197,
   "metadata": {},
   "outputs": [
    {
     "data": {
      "text/plain": [
       "array(['1', '1', '1'], dtype='<U1')"
      ]
     },
     "execution_count": 197,
     "metadata": {},
     "output_type": "execute_result"
    }
   ],
   "source": [
    "np.array(class_names)[y_pred1]"
   ]
  },
  {
   "cell_type": "code",
   "execution_count": 198,
   "metadata": {},
   "outputs": [
    {
     "data": {
      "text/plain": [
       "576    2\n",
       "52     1\n",
       "531    2\n",
       "Name: CDR, dtype: int64"
      ]
     },
     "execution_count": 198,
     "metadata": {},
     "output_type": "execute_result"
    }
   ],
   "source": [
    "y_new1 = y_test1[:3]\n",
    "y_new1"
   ]
  },
  {
   "cell_type": "code",
   "execution_count": 240,
   "metadata": {},
   "outputs": [
    {
     "data": {
      "image/png": "[encoded data removed]",
      "text/plain": [
       "<Figure size 518.4x172.8 with 3 Axes>"
      ]
     },
     "metadata": {
      "needs_background": "light"
     },
     "output_type": "display_data"
    }
   ],
   "source": [
    "plt.figure(figsize=(7.2, 2.4))\n",
    "for index, image in enumerate(X_new1):\n",
    "    plt.subplot(1, 3, index + 1)\n",
    "    plt.imshow(image.reshape(44,44))\n",
    "    plt.axis('off')\n",
    "    plt.title(class_names[y_test1.iloc[index]], fontsize=12)\n",
    "    plt.subplots_adjust(wspace=0.2, hspace=0.5)\n",
    "plt.show()"
   ]
  },
  {
   "cell_type": "code",
   "execution_count": 241,
   "metadata": {},
   "outputs": [],
   "source": [
    "keras.backend.clear_session()\n",
    "np.random.seed(42)\n",
    "tf.random.set_seed(42)"
   ]
  },
  {
   "cell_type": "code",
   "execution_count": null,
   "metadata": {},
   "outputs": [],
   "source": []
  },
  {
   "cell_type": "code",
   "execution_count": 242,
   "metadata": {},
   "outputs": [],
   "source": [
    "model1 = keras.models.Sequential([\n",
    "    keras.layers.Flatten(input_shape=[1936]),\n",
    "    keras.layers.Dense(300, activation=\"relu\"),\n",
    "    keras.layers.Dense(100, activation=\"relu\"),\n",
    "    keras.layers.Dense(10, activation=\"softmax\")\n",
    "])"
   ]
  },
  {
   "cell_type": "code",
   "execution_count": 243,
   "metadata": {},
   "outputs": [],
   "source": [
    "model1.compile(loss=\"sparse_categorical_crossentropy\",\n",
    "              optimizer=keras.optimizers.SGD(learning_rate=1e-3),\n",
    "              metrics=[\"accuracy\"])\n",
    "expon_lr = ExponentialLearningRate(factor=1.005)"
   ]
  },
  {
   "cell_type": "code",
   "execution_count": 244,
   "metadata": {},
   "outputs": [
    {
     "name": "stdout",
     "output_type": "stream",
     "text": [
      "16/16 [==============================] - 1s 17ms/step - loss: 1.5349 - accuracy: 0.5770 - val_loss: 1.3866 - val_accuracy: 0.5410\n"
     ]
    }
   ],
   "source": [
    "history1 = model1.fit(X_train1 ,y_train1, epochs=1,\n",
    "                    validation_data=(X_test1, y_test1),\n",
    "                    callbacks=[expon_lr])"
   ]
  },
  {
   "cell_type": "code",
   "execution_count": 245,
   "metadata": {},
   "outputs": [
    {
     "data": {
      "text/plain": [
       "Text(0, 0.5, 'Loss')"
      ]
     },
     "execution_count": 245,
     "metadata": {},
     "output_type": "execute_result"
    },
    {
     "data": {
      "image/png": "[encoded data removed]",
      "text/plain": [
       "<Figure size 432x288 with 1 Axes>"
      ]
     },
     "metadata": {
      "needs_background": "light"
     },
     "output_type": "display_data"
    }
   ],
   "source": [
    "plt.plot(expon_lr.rates, expon_lr.losses)\n",
    "plt.gca().set_xscale('log')\n",
    "plt.hlines(min(expon_lr.losses), min(expon_lr.rates), max(expon_lr.rates))\n",
    "plt.axis([min(expon_lr.rates), max(expon_lr.rates), 0, expon_lr.losses[0]])\n",
    "plt.grid()\n",
    "plt.xlabel(\"Learning rate\")\n",
    "plt.ylabel(\"Loss\")"
   ]
  },
  {
   "cell_type": "code",
   "execution_count": 246,
   "metadata": {},
   "outputs": [
    {
     "data": {
      "text/plain": [
       "1.5348974466323853"
      ]
     },
     "execution_count": 246,
     "metadata": {},
     "output_type": "execute_result"
    }
   ],
   "source": [
    "min(expon_lr.losses)"
   ]
  },
  {
   "cell_type": "code",
   "execution_count": 247,
   "metadata": {},
   "outputs": [],
   "source": [
    "keras.backend.clear_session()\n",
    "np.random.seed(42)\n",
    "tf.random.set_seed(42)"
   ]
  },
  {
   "cell_type": "code",
   "execution_count": 248,
   "metadata": {},
   "outputs": [],
   "source": [
    "model1 = keras.models.Sequential([\n",
    "    keras.layers.Flatten(input_shape=[1936]),\n",
    "    keras.layers.Dense(300, activation=\"relu\"),\n",
    "    keras.layers.Dense(100, activation=\"relu\"),\n",
    "    keras.layers.Dense(10, activation=\"softmax\")\n",
    "])\n",
    "model1.compile(loss=\"sparse_categorical_crossentropy\",\n",
    "              optimizer=keras.optimizers.SGD(lr=8e-1),\n",
    "              metrics=[\"accuracy\"])"
   ]
  },
  {
   "cell_type": "code",
   "execution_count": 249,
   "metadata": {},
   "outputs": [
    {
     "name": "stdout",
     "output_type": "stream",
     "text": [
      "Epoch 1/30\n",
      "16/16 [==============================] - 1s 17ms/step - loss: 741.9238 - accuracy: 0.5359 - val_loss: 1.2497 - val_accuracy: 0.5410\n",
      "Epoch 2/30\n",
      "16/16 [==============================] - 0s 4ms/step - loss: 1.0937 - accuracy: 0.5791 - val_loss: 1.1310 - val_accuracy: 0.2869\n",
      "Epoch 3/30\n",
      "16/16 [==============================] - 0s 7ms/step - loss: 1.0367 - accuracy: 0.5380 - val_loss: 1.1796 - val_accuracy: 0.2869\n",
      "Epoch 4/30\n",
      "16/16 [==============================] - 0s 7ms/step - loss: 1.0048 - accuracy: 0.5708 - val_loss: 1.6913 - val_accuracy: 0.2869\n",
      "Epoch 5/30\n",
      "16/16 [==============================] - 0s 7ms/step - loss: 1.0358 - accuracy: 0.5647 - val_loss: 1.0837 - val_accuracy: 0.5410\n",
      "Epoch 6/30\n",
      "16/16 [==============================] - 0s 7ms/step - loss: 0.9918 - accuracy: 0.5647 - val_loss: 1.1702 - val_accuracy: 0.2869\n",
      "Epoch 7/30\n",
      "16/16 [==============================] - 0s 6ms/step - loss: 1.0184 - accuracy: 0.5380 - val_loss: 1.0873 - val_accuracy: 0.5410\n",
      "Epoch 8/30\n",
      "16/16 [==============================] - 0s 4ms/step - loss: 1.0108 - accuracy: 0.5565 - val_loss: 1.0711 - val_accuracy: 0.5410\n",
      "Epoch 9/30\n",
      "16/16 [==============================] - 0s 5ms/step - loss: 0.9982 - accuracy: 0.5791 - val_loss: 1.0736 - val_accuracy: 0.5410\n",
      "Epoch 10/30\n",
      "16/16 [==============================] - 0s 4ms/step - loss: 0.9981 - accuracy: 0.5791 - val_loss: 1.0427 - val_accuracy: 0.5410\n",
      "Epoch 11/30\n",
      "16/16 [==============================] - 0s 4ms/step - loss: 0.9971 - accuracy: 0.5791 - val_loss: 1.0734 - val_accuracy: 0.5410\n",
      "Epoch 12/30\n",
      "16/16 [==============================] - 0s 5ms/step - loss: 0.9896 - accuracy: 0.5791 - val_loss: 1.0395 - val_accuracy: 0.5410\n",
      "Epoch 13/30\n",
      "16/16 [==============================] - 0s 4ms/step - loss: 0.9905 - accuracy: 0.5791 - val_loss: 1.0416 - val_accuracy: 0.5410\n",
      "Epoch 14/30\n",
      "16/16 [==============================] - 0s 6ms/step - loss: 0.9889 - accuracy: 0.5791 - val_loss: 1.0811 - val_accuracy: 0.5410\n",
      "Epoch 15/30\n",
      "16/16 [==============================] - 0s 5ms/step - loss: 0.9939 - accuracy: 0.5791 - val_loss: 1.0411 - val_accuracy: 0.5410\n",
      "Epoch 16/30\n",
      "16/16 [==============================] - 0s 5ms/step - loss: 0.9885 - accuracy: 0.5544 - val_loss: 1.0397 - val_accuracy: 0.5410\n",
      "Epoch 17/30\n",
      "16/16 [==============================] - 0s 6ms/step - loss: 0.9867 - accuracy: 0.5791 - val_loss: 1.0735 - val_accuracy: 0.5410\n",
      "Epoch 18/30\n",
      "16/16 [==============================] - 0s 6ms/step - loss: 0.9901 - accuracy: 0.5667 - val_loss: 1.1355 - val_accuracy: 0.2869\n",
      "Epoch 19/30\n",
      "16/16 [==============================] - 0s 7ms/step - loss: 0.9947 - accuracy: 0.5708 - val_loss: 1.1862 - val_accuracy: 0.2869\n",
      "Epoch 20/30\n",
      "16/16 [==============================] - 0s 5ms/step - loss: 0.9980 - accuracy: 0.5585 - val_loss: 1.0486 - val_accuracy: 0.5410\n",
      "Epoch 21/30\n",
      "16/16 [==============================] - 0s 4ms/step - loss: 0.9797 - accuracy: 0.5791 - val_loss: 1.0549 - val_accuracy: 0.5410\n",
      "Epoch 22/30\n",
      "16/16 [==============================] - 0s 5ms/step - loss: 0.9862 - accuracy: 0.5791 - val_loss: 1.0532 - val_accuracy: 0.5410\n",
      "Epoch 23/30\n",
      "16/16 [==============================] - 0s 5ms/step - loss: 0.9829 - accuracy: 0.5791 - val_loss: 1.0863 - val_accuracy: 0.5410\n",
      "Epoch 24/30\n",
      "16/16 [==============================] - 0s 8ms/step - loss: 0.9901 - accuracy: 0.5791 - val_loss: 1.1115 - val_accuracy: 0.5410\n",
      "Epoch 25/30\n",
      "16/16 [==============================] - 0s 5ms/step - loss: 0.9912 - accuracy: 0.5791 - val_loss: 1.1263 - val_accuracy: 0.5410\n",
      "Epoch 26/30\n",
      "16/16 [==============================] - 0s 4ms/step - loss: 0.9942 - accuracy: 0.5791 - val_loss: 1.0618 - val_accuracy: 0.5410\n",
      "Epoch 27/30\n",
      "16/16 [==============================] - 0s 4ms/step - loss: 0.9799 - accuracy: 0.5791 - val_loss: 1.0607 - val_accuracy: 0.5410\n",
      "Epoch 28/30\n",
      "16/16 [==============================] - 0s 5ms/step - loss: 0.9860 - accuracy: 0.5483 - val_loss: 1.0400 - val_accuracy: 0.5410\n",
      "Epoch 29/30\n",
      "16/16 [==============================] - 0s 5ms/step - loss: 0.9868 - accuracy: 0.5791 - val_loss: 1.0536 - val_accuracy: 0.5410\n",
      "Epoch 30/30\n",
      "16/16 [==============================] - 0s 6ms/step - loss: 0.9856 - accuracy: 0.5791 - val_loss: 1.1034 - val_accuracy: 0.5410\n"
     ]
    }
   ],
   "source": [
    "history1 = model1.fit(X_train1, y_train1, epochs=30,\n",
    "                    validation_data=(X_test1, y_test1))"
   ]
  },
  {
   "cell_type": "code",
   "execution_count": 250,
   "metadata": {},
   "outputs": [
    {
     "name": "stdout",
     "output_type": "stream",
     "text": [
      "4/4 [==============================] - 0s 2ms/step - loss: 1.1034 - accuracy: 0.5410\n"
     ]
    },
    {
     "data": {
      "text/plain": [
       "[1.1034283638000488, 0.5409836173057556]"
      ]
     },
     "execution_count": 250,
     "metadata": {},
     "output_type": "execute_result"
    }
   ],
   "source": [
    "model1.evaluate(X_test1, y_test1)"
   ]
  },
  {
   "cell_type": "code",
   "execution_count": 251,
   "metadata": {},
   "outputs": [],
   "source": [
    "from tensorflow.keras.callbacks import EarlyStopping\n",
    "from tensorflow.keras import layers, callbacks\n",
    "keras.backend.clear_session()\n",
    "np.random.seed(42)\n",
    "tf.random.set_seed(42)\n",
    "model1 = keras.models.Sequential([\n",
    "    keras.layers.Flatten(input_shape=[1936]),\n",
    "    keras.layers.Dense(300, activation=\"relu\"),\n",
    "    keras.layers.Dense(100, activation=\"relu\"),\n",
    "    keras.layers.Dense(10, activation=\"softmax\")\n",
    "])\n",
    "model1.compile(loss=\"sparse_categorical_crossentropy\",\n",
    "              optimizer=keras.optimizers.SGD(lr=8e-1),\n",
    "              metrics=[\"accuracy\"])\n"
   ]
  },
  {
   "cell_type": "code",
   "execution_count": 252,
   "metadata": {},
   "outputs": [
    {
     "data": {
      "text/plain": [
       "'./my_mri2_logs/run_001'"
      ]
     },
     "execution_count": 252,
     "metadata": {},
     "output_type": "execute_result"
    }
   ],
   "source": [
    "run_index = 1 # increment this at every run\n",
    "run_logdir = os.path.join(os.curdir, \"my_mri2_logs\", \"run_{:03d}\".format(run_index))\n",
    "run_logdir"
   ]
  },
  {
   "cell_type": "code",
   "execution_count": 253,
   "metadata": {},
   "outputs": [
    {
     "data": {
      "text/plain": [
       "'./my_mri_logs2/run_001'"
      ]
     },
     "execution_count": 253,
     "metadata": {},
     "output_type": "execute_result"
    }
   ],
   "source": [
    "run_index = 1 # increment this at every run\n",
    "run_logdir = os.path.join(os.curdir, \"my_mri_logs2\", \"run_{:03d}\".format(run_index))\n",
    "run_logdir"
   ]
  },
  {
   "cell_type": "code",
   "execution_count": 254,
   "metadata": {},
   "outputs": [
    {
     "name": "stdout",
     "output_type": "stream",
     "text": [
      "Epoch 1/100\n",
      "16/16 [==============================] - 1s 20ms/step - loss: 741.9238 - accuracy: 0.5359 - val_loss: 1.2497 - val_accuracy: 0.5410\n",
      "Epoch 2/100\n",
      "16/16 [==============================] - 0s 11ms/step - loss: 1.0937 - accuracy: 0.5791 - val_loss: 1.1310 - val_accuracy: 0.2869\n",
      "Epoch 3/100\n",
      "16/16 [==============================] - 0s 5ms/step - loss: 1.0367 - accuracy: 0.5380 - val_loss: 1.1796 - val_accuracy: 0.2869\n",
      "Epoch 4/100\n",
      "16/16 [==============================] - 0s 5ms/step - loss: 1.0048 - accuracy: 0.5708 - val_loss: 1.6913 - val_accuracy: 0.2869\n",
      "Epoch 5/100\n",
      "16/16 [==============================] - 0s 5ms/step - loss: 1.0358 - accuracy: 0.5647 - val_loss: 1.0837 - val_accuracy: 0.5410\n",
      "Epoch 6/100\n",
      "16/16 [==============================] - 0s 5ms/step - loss: 0.9918 - accuracy: 0.5647 - val_loss: 1.1702 - val_accuracy: 0.2869\n",
      "Epoch 7/100\n",
      "16/16 [==============================] - 0s 5ms/step - loss: 1.0184 - accuracy: 0.5380 - val_loss: 1.0873 - val_accuracy: 0.5410\n",
      "Epoch 8/100\n",
      "16/16 [==============================] - 0s 8ms/step - loss: 1.0108 - accuracy: 0.5565 - val_loss: 1.0711 - val_accuracy: 0.5410\n",
      "Epoch 9/100\n",
      "16/16 [==============================] - 0s 4ms/step - loss: 0.9982 - accuracy: 0.5791 - val_loss: 1.0736 - val_accuracy: 0.5410\n",
      "Epoch 10/100\n",
      "16/16 [==============================] - 0s 6ms/step - loss: 0.9981 - accuracy: 0.5791 - val_loss: 1.0427 - val_accuracy: 0.5410\n",
      "Epoch 11/100\n",
      "16/16 [==============================] - 0s 8ms/step - loss: 0.9971 - accuracy: 0.5791 - val_loss: 1.0734 - val_accuracy: 0.5410\n",
      "Epoch 12/100\n",
      "16/16 [==============================] - 0s 7ms/step - loss: 0.9896 - accuracy: 0.5791 - val_loss: 1.0395 - val_accuracy: 0.5410\n",
      "Epoch 13/100\n",
      "16/16 [==============================] - 0s 4ms/step - loss: 0.9905 - accuracy: 0.5791 - val_loss: 1.0416 - val_accuracy: 0.5410\n",
      "Epoch 14/100\n",
      "16/16 [==============================] - 0s 4ms/step - loss: 0.9889 - accuracy: 0.5791 - val_loss: 1.0811 - val_accuracy: 0.5410\n",
      "Epoch 15/100\n",
      "16/16 [==============================] - 0s 5ms/step - loss: 0.9939 - accuracy: 0.5791 - val_loss: 1.0411 - val_accuracy: 0.5410\n",
      "Epoch 16/100\n",
      "16/16 [==============================] - 0s 8ms/step - loss: 0.9885 - accuracy: 0.5544 - val_loss: 1.0397 - val_accuracy: 0.5410\n",
      "Epoch 17/100\n",
      "16/16 [==============================] - 0s 9ms/step - loss: 0.9867 - accuracy: 0.5791 - val_loss: 1.0735 - val_accuracy: 0.5410\n",
      "Epoch 18/100\n",
      "16/16 [==============================] - 0s 9ms/step - loss: 0.9901 - accuracy: 0.5667 - val_loss: 1.1355 - val_accuracy: 0.2869\n",
      "Epoch 19/100\n",
      "16/16 [==============================] - 0s 11ms/step - loss: 0.9947 - accuracy: 0.5708 - val_loss: 1.1862 - val_accuracy: 0.2869\n",
      "Epoch 20/100\n",
      "16/16 [==============================] - 0s 8ms/step - loss: 0.9980 - accuracy: 0.5585 - val_loss: 1.0486 - val_accuracy: 0.5410\n",
      "Epoch 21/100\n",
      "16/16 [==============================] - 0s 5ms/step - loss: 0.9797 - accuracy: 0.5791 - val_loss: 1.0549 - val_accuracy: 0.5410\n",
      "Epoch 22/100\n",
      "16/16 [==============================] - 0s 4ms/step - loss: 0.9862 - accuracy: 0.5791 - val_loss: 1.0532 - val_accuracy: 0.5410\n",
      "Epoch 23/100\n",
      "16/16 [==============================] - 0s 12ms/step - loss: 0.9829 - accuracy: 0.5791 - val_loss: 1.0863 - val_accuracy: 0.5410\n",
      "Epoch 24/100\n",
      "16/16 [==============================] - 0s 6ms/step - loss: 0.9901 - accuracy: 0.5791 - val_loss: 1.1115 - val_accuracy: 0.5410\n",
      "Epoch 25/100\n",
      "16/16 [==============================] - 0s 9ms/step - loss: 0.9912 - accuracy: 0.5791 - val_loss: 1.1263 - val_accuracy: 0.5410\n",
      "Epoch 26/100\n",
      "16/16 [==============================] - 0s 4ms/step - loss: 0.9942 - accuracy: 0.5791 - val_loss: 1.0618 - val_accuracy: 0.5410\n",
      "Epoch 27/100\n",
      "16/16 [==============================] - 0s 4ms/step - loss: 0.9799 - accuracy: 0.5791 - val_loss: 1.0607 - val_accuracy: 0.5410\n",
      "Epoch 28/100\n",
      "16/16 [==============================] - 0s 4ms/step - loss: 0.9860 - accuracy: 0.5483 - val_loss: 1.0400 - val_accuracy: 0.5410\n",
      "Epoch 29/100\n",
      "16/16 [==============================] - 0s 5ms/step - loss: 0.9868 - accuracy: 0.5791 - val_loss: 1.0536 - val_accuracy: 0.5410\n",
      "Epoch 30/100\n",
      "16/16 [==============================] - 0s 8ms/step - loss: 0.9856 - accuracy: 0.5791 - val_loss: 1.1034 - val_accuracy: 0.5410\n",
      "Epoch 31/100\n",
      "16/16 [==============================] - 0s 7ms/step - loss: 0.9928 - accuracy: 0.5791 - val_loss: 1.0691 - val_accuracy: 0.5410\n",
      "Epoch 32/100\n",
      "16/16 [==============================] - 0s 6ms/step - loss: 0.9870 - accuracy: 0.5791 - val_loss: 1.0525 - val_accuracy: 0.5410\n"
     ]
    }
   ],
   "source": [
    "early_stopping_cb = keras.callbacks.EarlyStopping(\n",
    "    min_delta=0.001, # minimium amount of change to count as an improvement\n",
    "    patience=20, # how many epochs to wait before stopping\n",
    ")\n",
    "checkpoint_cb = keras.callbacks.ModelCheckpoint(\"my_mri2_model.h5\", save_best_only=True)\n",
    "tensorboard_cb = keras.callbacks.TensorBoard(run_logdir)\n",
    "\n",
    "history1 = model1.fit(X_train1, y_train1, epochs=100,\n",
    "                    validation_data=(X_test1, y_test1),\n",
    "                    callbacks=[checkpoint_cb, early_stopping_cb, tensorboard_cb])"
   ]
  },
  {
   "cell_type": "code",
   "execution_count": 255,
   "metadata": {},
   "outputs": [
    {
     "name": "stdout",
     "output_type": "stream",
     "text": [
      "4/4 [==============================] - 0s 7ms/step - loss: 1.0395 - accuracy: 0.5410\n",
      "16/16 [==============================] - 0s 2ms/step - loss: 0.9926 - accuracy: 0.5791\n"
     ]
    },
    {
     "data": {
      "text/plain": [
       "[0.9925571084022522, 0.5790554285049438]"
      ]
     },
     "execution_count": 255,
     "metadata": {},
     "output_type": "execute_result"
    }
   ],
   "source": [
    "model1 = keras.models.load_model(\"my_mri2_model.h5\") # rollback to best model\n",
    "model1.evaluate(X_test1, y_test1)\n",
    "model1.evaluate(X_train1, y_train1)"
   ]
  },
  {
   "cell_type": "code",
   "execution_count": null,
   "metadata": {},
   "outputs": [],
   "source": []
  },
  {
   "cell_type": "code",
   "execution_count": null,
   "metadata": {},
   "outputs": [],
   "source": []
  },
  {
   "cell_type": "code",
   "execution_count": null,
   "metadata": {},
   "outputs": [],
   "source": []
  },
  {
   "cell_type": "code",
   "execution_count": null,
   "metadata": {},
   "outputs": [],
   "source": []
  },
  {
   "cell_type": "code",
   "execution_count": null,
   "metadata": {},
   "outputs": [],
   "source": []
  },
  {
   "cell_type": "code",
   "execution_count": null,
   "metadata": {},
   "outputs": [],
   "source": []
  },
  {
   "cell_type": "code",
   "execution_count": null,
   "metadata": {},
   "outputs": [],
   "source": []
  },
  {
   "cell_type": "code",
   "execution_count": null,
   "metadata": {},
   "outputs": [],
   "source": []
  },
  {
   "cell_type": "code",
   "execution_count": null,
   "metadata": {},
   "outputs": [],
   "source": []
  },
  {
   "cell_type": "code",
   "execution_count": null,
   "metadata": {},
   "outputs": [],
   "source": []
  },
  {
   "cell_type": "code",
   "execution_count": null,
   "metadata": {},
   "outputs": [],
   "source": []
  },
  {
   "cell_type": "code",
   "execution_count": null,
   "metadata": {},
   "outputs": [],
   "source": []
  },
  {
   "cell_type": "code",
   "execution_count": null,
   "metadata": {},
   "outputs": [],
   "source": []
  },
  {
   "cell_type": "code",
   "execution_count": null,
   "metadata": {},
   "outputs": [],
   "source": []
  },
  {
   "cell_type": "code",
   "execution_count": null,
   "metadata": {},
   "outputs": [],
   "source": []
  },
  {
   "cell_type": "code",
   "execution_count": null,
   "metadata": {},
   "outputs": [],
   "source": []
  },
  {
   "cell_type": "code",
   "execution_count": null,
   "metadata": {},
   "outputs": [],
   "source": []
  },
  {
   "cell_type": "code",
   "execution_count": null,
   "metadata": {},
   "outputs": [],
   "source": []
  },
  {
   "cell_type": "code",
   "execution_count": null,
   "metadata": {},
   "outputs": [],
   "source": []
  },
  {
   "cell_type": "code",
   "execution_count": null,
   "metadata": {},
   "outputs": [],
   "source": []
  },
  {
   "cell_type": "code",
   "execution_count": null,
   "metadata": {},
   "outputs": [],
   "source": []
  },
  {
   "cell_type": "code",
   "execution_count": null,
   "metadata": {},
   "outputs": [],
   "source": []
  },
  {
   "cell_type": "code",
   "execution_count": null,
   "metadata": {},
   "outputs": [],
   "source": []
  },
  {
   "cell_type": "code",
   "execution_count": null,
   "metadata": {},
   "outputs": [],
   "source": []
  },
  {
   "cell_type": "code",
   "execution_count": null,
   "metadata": {},
   "outputs": [],
   "source": []
  },
  {
   "cell_type": "code",
   "execution_count": null,
   "metadata": {},
   "outputs": [],
   "source": []
  },
  {
   "cell_type": "code",
   "execution_count": null,
   "metadata": {},
   "outputs": [],
   "source": []
  }
 ],
 "metadata": {
  "kernelspec": {
   "display_name": "Python 3",
   "language": "python",
   "name": "python3"
  },
  "language_info": {
   "codemirror_mode": {
    "name": "ipython",
    "version": 3
   },
   "file_extension": ".py",
   "mimetype": "text/x-python",
   "name": "python",
   "nbconvert_exporter": "python",
   "pygments_lexer": "ipython3",
   "version": "3.8.8"
  },
  "nav_menu": {
   "height": "264px",
   "width": "369px"
  },
  "toc": {
   "navigate_menu": true,
   "number_sections": true,
   "sideBar": true,
   "threshold": 6,
   "toc_cell": false,
   "toc_section_display": "block",
   "toc_window_display": false
  }
 },
 "nbformat": 4,
 "nbformat_minor": 4
}
